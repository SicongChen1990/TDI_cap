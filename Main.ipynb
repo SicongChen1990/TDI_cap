{
 "cells": [
  {
   "cell_type": "code",
   "execution_count": 92,
   "metadata": {},
   "outputs": [
    {
     "data": {
      "text/plain": [
       "'730 Bourbon St, New Orleans'"
      ]
     },
     "execution_count": 92,
     "metadata": {},
     "output_type": "execute_result"
    }
   ],
   "source": [
    "address2"
   ]
  },
  {
   "cell_type": "code",
   "execution_count": 2,
   "metadata": {
    "collapsed": true
   },
   "outputs": [],
   "source": [
    "import csv\n",
    "import dill\n",
    "from datetime import datetime\n",
    "import pandas as pd\n",
    "import numpy as np\n",
    "from geopy.geocoders import Nominatim\n",
    "from geopy.distance import great_circle\n",
    "geolocator = Nominatim()\n",
    "import matplotlib\n",
    "import matplotlib.pyplot as plt"
   ]
  },
  {
   "cell_type": "code",
   "execution_count": 3,
   "metadata": {
    "collapsed": true
   },
   "outputs": [],
   "source": [
    "year=str(2013)\n",
    "filename='Calls_for_Service_'+year+'.csv'\n",
    "csvfile = open(filename, 'r')\n",
    "temp=[]\n",
    "fieldnames = (\"NOPD_Item\",\"Type_\",\"TypeText\",\"Priority\",\"MapX\",\"MapY\",\"TimeCreate\",\"TimeDispatch\",\"TimeArrive\",\n",
    "              \"TimeClosed\",\"Disposition\",\n",
    "             \"DispositionText\",\"BLOCK_ADDRESS\",\"Zip\",\"PoliceDistrict\",\"Location\")\n",
    "reader = csv.DictReader(csvfile, fieldnames)\n",
    "for row in reader:\n",
    "    temp.append(row)\n",
    "List2013=temp[1:]"
   ]
  },
  {
   "cell_type": "code",
   "execution_count": 4,
   "metadata": {
    "collapsed": true
   },
   "outputs": [],
   "source": [
    "year=str(2014)\n",
    "filename='Calls_for_Service_'+year+'.csv'\n",
    "csvfile = open(filename, 'r')\n",
    "temp=[]\n",
    "fieldnames = (\"NOPD_Item\",\"Type_\",\"TypeText\",\"Priority\",\"InitialType\",\"InitialTypeText\",\"InitialPriority\",\"MapX\",\"MapY\",\"TimeCreate\",\n",
    "              \"TimeDispatch\",\"TimeArrive\",\n",
    "              \"TimeClosed\",\"Disposition\",\"DispositionText\",\n",
    "              \"SelfInitiated\",\"Beat\",\"BLOCK_ADDRESS\",\"Zip\",\"PoliceDistrict\",\"Location\")\n",
    "reader = csv.DictReader(csvfile, fieldnames)\n",
    "for row in reader:\n",
    "    temp.append(row)\n",
    "List2014=temp[1:]"
   ]
  },
  {
   "cell_type": "code",
   "execution_count": 5,
   "metadata": {
    "collapsed": true
   },
   "outputs": [],
   "source": [
    "year=str(2015)\n",
    "filename='Calls_for_Service_'+year+'.csv'\n",
    "csvfile = open(filename, 'r')\n",
    "temp=[]\n",
    "fieldnames = (\"NOPD_Item\",\"Type_\",\"TypeText\",\"Priority\",\"InitialType\",\"InitialTypeText\",\"InitialPriority\",\"MapX\",\"MapY\",\"TimeCreate\",\n",
    "              \"TimeDispatch\",\"TimeArrive\",\n",
    "              \"TimeClosed\",\"Disposition\",\"DispositionText\",\n",
    "              \"SelfInitiated\",\"Beat\",\"BLOCK_ADDRESS\",\"Zip\",\"PoliceDistrict\",\"Location\")\n",
    "reader = csv.DictReader(csvfile, fieldnames)\n",
    "for row in reader:\n",
    "    temp.append(row)\n",
    "List2015=temp[1:]"
   ]
  },
  {
   "cell_type": "code",
   "execution_count": 6,
   "metadata": {
    "collapsed": true
   },
   "outputs": [],
   "source": [
    "year=str(2016)\n",
    "filename='Calls_for_Service_'+year+'.csv'\n",
    "csvfile = open(filename, 'r')\n",
    "temp=[]\n",
    "fieldnames = (\"NOPD_Item\",\"Type_\",\"TypeText\",\"Priority\",\"InitialType\",\"InitialTypeText\",\"InitialPriority\",\"MapX\",\"MapY\",\"TimeCreate\",\n",
    "              \"TimeDispatch\",\"TimeArrive\",\n",
    "              \"TimeClosed\",\"Disposition\",\"DispositionText\",\n",
    "              \"SelfInitiated\",\"Beat\",\"BLOCK_ADDRESS\",\"Zip\",\"PoliceDistrict\",\"Location\")\n",
    "reader = csv.DictReader(csvfile, fieldnames)\n",
    "for row in reader:\n",
    "    temp.append(row)\n",
    "List2016=temp[1:]"
   ]
  },
  {
   "cell_type": "code",
   "execution_count": 7,
   "metadata": {
    "collapsed": true
   },
   "outputs": [],
   "source": [
    "year=str(2017)\n",
    "filename='Calls_for_Service_'+year+'.csv'\n",
    "csvfile = open(filename, 'r')\n",
    "temp=[]\n",
    "fieldnames = (\"NOPD_Item\",\"Type_\",\"TypeText\",\"Priority\",\"InitialType\",\"InitialTypeText\",\"InitialPriority\",\"MapX\",\"MapY\",\"TimeCreate\",\n",
    "              \"TimeDispatch\",\"TimeArrive\",\n",
    "              \"TimeClosed\",\"Disposition\",\"DispositionText\",\n",
    "              \"SelfInitiated\",\"Beat\",\"BLOCK_ADDRESS\",\"Zip\",\"PoliceDistrict\",\"Location\")\n",
    "reader = csv.DictReader(csvfile, fieldnames)\n",
    "for row in reader:\n",
    "    temp.append(row)\n",
    "List2017=temp[1:]"
   ]
  },
  {
   "cell_type": "code",
   "execution_count": 8,
   "metadata": {
    "collapsed": true
   },
   "outputs": [],
   "source": [
    "def timeconvert(timediff):\n",
    "    if timediff:\n",
    "        timeminsec=[timediff.days*24*60+timediff.seconds/60,timediff.seconds%60]\n",
    "    else:\n",
    "        timeminsec='InDef'\n",
    "    return timeminsec"
   ]
  },
  {
   "cell_type": "code",
   "execution_count": 9,
   "metadata": {
    "collapsed": true
   },
   "outputs": [],
   "source": [
    "def timediff(Arrive,Create):\n",
    "    if Arrive=='':\n",
    "        gap=[]\n",
    "    else:\n",
    "        gap=datetime.strptime(Arrive,'%m/%d/%Y %I:%M:%S %p')-datetime.strptime(Create,'%m/%d/%Y %I:%M:%S %p')\n",
    "    \n",
    "    return gap"
   ]
  },
  {
   "cell_type": "code",
   "execution_count": 10,
   "metadata": {
    "collapsed": true
   },
   "outputs": [],
   "source": [
    "def filterlist(l):\n",
    "    newlist=[{'TypeText':i['TypeText'],'TimeCreate':datetime.strptime(i['TimeCreate'],'%m/%d/%Y %I:%M:%S %p'), \n",
    "              'Response':\n",
    "            timeconvert(timediff(i['TimeArrive'],i['TimeCreate']))\n",
    "             ,'Location':i['Location']\n",
    "             } for i in l]\n",
    "    return newlist"
   ]
  },
  {
   "cell_type": "code",
   "execution_count": 11,
   "metadata": {
    "collapsed": true
   },
   "outputs": [],
   "source": [
    "L2017=filterlist(List2017)      #L2017: needed information from the full list (List2017)\n",
    "L2016=filterlist(List2016)\n",
    "L2015=filterlist(List2015)\n",
    "L2014=filterlist(List2014)\n",
    "L2013=filterlist(List2013)\n",
    "ListAll=L2013+L2014+L2015+L2016+L2017"
   ]
  },
  {
   "cell_type": "code",
   "execution_count": 12,
   "metadata": {
    "collapsed": true
   },
   "outputs": [],
   "source": [
    "TableAll=pd.DataFrame(ListAll)"
   ]
  },
  {
   "cell_type": "code",
   "execution_count": 13,
   "metadata": {
    "collapsed": true
   },
   "outputs": [],
   "source": [
    "#import pickle\n",
    "#TableAll.to_pickle('DataFiveYears.pickle')"
   ]
  },
  {
   "cell_type": "code",
   "execution_count": null,
   "metadata": {
    "collapsed": true
   },
   "outputs": [],
   "source": []
  },
  {
   "cell_type": "code",
   "execution_count": 14,
   "metadata": {},
   "outputs": [
    {
     "data": {
      "text/html": [
       "<div>\n",
       "<style>\n",
       "    .dataframe thead tr:only-child th {\n",
       "        text-align: right;\n",
       "    }\n",
       "\n",
       "    .dataframe thead th {\n",
       "        text-align: left;\n",
       "    }\n",
       "\n",
       "    .dataframe tbody tr th {\n",
       "        vertical-align: top;\n",
       "    }\n",
       "</style>\n",
       "<table border=\"1\" class=\"dataframe\">\n",
       "  <thead>\n",
       "    <tr style=\"text-align: right;\">\n",
       "      <th></th>\n",
       "      <th>Location</th>\n",
       "      <th>Response</th>\n",
       "      <th>TimeCreate</th>\n",
       "      <th>TypeText</th>\n",
       "    </tr>\n",
       "  </thead>\n",
       "  <tbody>\n",
       "    <tr>\n",
       "      <th>100</th>\n",
       "      <td>(29.99478381521956, -90.06140819524536)</td>\n",
       "      <td>[9, 7]</td>\n",
       "      <td>2013-01-01 00:32:39</td>\n",
       "      <td>DISCHARGING FIREARM</td>\n",
       "    </tr>\n",
       "    <tr>\n",
       "      <th>101</th>\n",
       "      <td>(29.954711288829333, -90.06914767128782)</td>\n",
       "      <td>[0, 13]</td>\n",
       "      <td>2013-01-01 00:33:15</td>\n",
       "      <td>COMPLAINT OTHER</td>\n",
       "    </tr>\n",
       "    <tr>\n",
       "      <th>102</th>\n",
       "      <td>(30.00541375875009, -90.02312031579173)</td>\n",
       "      <td>InDef</td>\n",
       "      <td>2013-01-01 00:32:05</td>\n",
       "      <td>RECKLESS DRIVING</td>\n",
       "    </tr>\n",
       "    <tr>\n",
       "      <th>103</th>\n",
       "      <td>(30.005815042781357, -90.0595265543836)</td>\n",
       "      <td>InDef</td>\n",
       "      <td>2013-01-01 00:34:16</td>\n",
       "      <td>BURGLAR ALARM, SILEN</td>\n",
       "    </tr>\n",
       "    <tr>\n",
       "      <th>104</th>\n",
       "      <td>(29.923584055386364, -90.08093872975894)</td>\n",
       "      <td>InDef</td>\n",
       "      <td>2013-01-01 00:35:48</td>\n",
       "      <td>DISCHARGING FIREARM</td>\n",
       "    </tr>\n",
       "    <tr>\n",
       "      <th>105</th>\n",
       "      <td>(29.964135701270372, -90.09607586645473)</td>\n",
       "      <td>InDef</td>\n",
       "      <td>2013-01-01 00:36:32</td>\n",
       "      <td>TRAFFIC INCIDENT</td>\n",
       "    </tr>\n",
       "    <tr>\n",
       "      <th>106</th>\n",
       "      <td>(9.235500542976004E-7, -0.000002292984766499941)</td>\n",
       "      <td>[0, 2]</td>\n",
       "      <td>2013-01-01 00:36:43</td>\n",
       "      <td>MEDICAL</td>\n",
       "    </tr>\n",
       "    <tr>\n",
       "      <th>107</th>\n",
       "      <td>(29.966584611565143, -90.06960047104681)</td>\n",
       "      <td>[4, 21]</td>\n",
       "      <td>2013-01-01 00:34:57</td>\n",
       "      <td>SIMPLE CRIMINAL DAMA</td>\n",
       "    </tr>\n",
       "    <tr>\n",
       "      <th>108</th>\n",
       "      <td>(29.97676406192181, -90.08621574947192)</td>\n",
       "      <td>InDef</td>\n",
       "      <td>2013-01-01 00:36:29</td>\n",
       "      <td>DISCHARGING FIREARM</td>\n",
       "    </tr>\n",
       "    <tr>\n",
       "      <th>109</th>\n",
       "      <td>(29.98276111296752, -90.10338824613962)</td>\n",
       "      <td>[16, 41]</td>\n",
       "      <td>2013-01-01 00:37:09</td>\n",
       "      <td>DISTURBANCE (OTHER)</td>\n",
       "    </tr>\n",
       "    <tr>\n",
       "      <th>110</th>\n",
       "      <td>(29.958541575287764, -90.0922102286606)</td>\n",
       "      <td>[14, 54]</td>\n",
       "      <td>2013-01-01 00:36:31</td>\n",
       "      <td>SILENT 911 CALL</td>\n",
       "    </tr>\n",
       "    <tr>\n",
       "      <th>111</th>\n",
       "      <td>(29.961332328361642, -90.07019441714876)</td>\n",
       "      <td>[8, 49]</td>\n",
       "      <td>2013-01-01 00:37:40</td>\n",
       "      <td>TRAFFIC INCIDENT</td>\n",
       "    </tr>\n",
       "    <tr>\n",
       "      <th>112</th>\n",
       "      <td>(29.989861133678538, -90.08407123638128)</td>\n",
       "      <td>[12, 20]</td>\n",
       "      <td>2013-01-01 00:37:51</td>\n",
       "      <td>DISCHARGING FIREARM</td>\n",
       "    </tr>\n",
       "    <tr>\n",
       "      <th>113</th>\n",
       "      <td>(29.95192116957283, -90.07127039809247)</td>\n",
       "      <td>[0, 3]</td>\n",
       "      <td>2013-01-01 00:38:35</td>\n",
       "      <td>COMPLAINT OTHER</td>\n",
       "    </tr>\n",
       "    <tr>\n",
       "      <th>114</th>\n",
       "      <td>(29.913705658258326, -89.99760557930199)</td>\n",
       "      <td>[7, 33]</td>\n",
       "      <td>2013-01-01 00:37:57</td>\n",
       "      <td>FIGHT</td>\n",
       "    </tr>\n",
       "    <tr>\n",
       "      <th>115</th>\n",
       "      <td>(29.98037369716403, -90.04695714558747)</td>\n",
       "      <td>[14, 19]</td>\n",
       "      <td>2013-01-01 00:40:02</td>\n",
       "      <td>FIREWORKS</td>\n",
       "    </tr>\n",
       "    <tr>\n",
       "      <th>116</th>\n",
       "      <td>(29.95292558395467, -90.06618919846487)</td>\n",
       "      <td>[5, 18]</td>\n",
       "      <td>2013-01-01 00:40:34</td>\n",
       "      <td>BURGLAR ALARM, SILEN</td>\n",
       "    </tr>\n",
       "    <tr>\n",
       "      <th>117</th>\n",
       "      <td>(29.95368519935523, -90.05431506688635)</td>\n",
       "      <td>[25, 10]</td>\n",
       "      <td>2013-01-01 00:41:48</td>\n",
       "      <td>COMPLAINT OTHER</td>\n",
       "    </tr>\n",
       "    <tr>\n",
       "      <th>118</th>\n",
       "      <td>(29.959011818869275, -90.06995851106261)</td>\n",
       "      <td>[5, 10]</td>\n",
       "      <td>2013-01-01 00:43:19</td>\n",
       "      <td>COMPLAINT OTHER</td>\n",
       "    </tr>\n",
       "    <tr>\n",
       "      <th>119</th>\n",
       "      <td>(30.035841150128242, -89.98647798742485)</td>\n",
       "      <td>[23, 10]</td>\n",
       "      <td>2013-01-01 00:40:39</td>\n",
       "      <td>COMPLAINT OTHER</td>\n",
       "    </tr>\n",
       "  </tbody>\n",
       "</table>\n",
       "</div>"
      ],
      "text/plain": [
       "                                             Location  Response  \\\n",
       "100           (29.99478381521956, -90.06140819524536)    [9, 7]   \n",
       "101          (29.954711288829333, -90.06914767128782)   [0, 13]   \n",
       "102           (30.00541375875009, -90.02312031579173)     InDef   \n",
       "103           (30.005815042781357, -90.0595265543836)     InDef   \n",
       "104          (29.923584055386364, -90.08093872975894)     InDef   \n",
       "105          (29.964135701270372, -90.09607586645473)     InDef   \n",
       "106  (9.235500542976004E-7, -0.000002292984766499941)    [0, 2]   \n",
       "107          (29.966584611565143, -90.06960047104681)   [4, 21]   \n",
       "108           (29.97676406192181, -90.08621574947192)     InDef   \n",
       "109           (29.98276111296752, -90.10338824613962)  [16, 41]   \n",
       "110           (29.958541575287764, -90.0922102286606)  [14, 54]   \n",
       "111          (29.961332328361642, -90.07019441714876)   [8, 49]   \n",
       "112          (29.989861133678538, -90.08407123638128)  [12, 20]   \n",
       "113           (29.95192116957283, -90.07127039809247)    [0, 3]   \n",
       "114          (29.913705658258326, -89.99760557930199)   [7, 33]   \n",
       "115           (29.98037369716403, -90.04695714558747)  [14, 19]   \n",
       "116           (29.95292558395467, -90.06618919846487)   [5, 18]   \n",
       "117           (29.95368519935523, -90.05431506688635)  [25, 10]   \n",
       "118          (29.959011818869275, -90.06995851106261)   [5, 10]   \n",
       "119          (30.035841150128242, -89.98647798742485)  [23, 10]   \n",
       "\n",
       "             TimeCreate              TypeText  \n",
       "100 2013-01-01 00:32:39   DISCHARGING FIREARM  \n",
       "101 2013-01-01 00:33:15       COMPLAINT OTHER  \n",
       "102 2013-01-01 00:32:05      RECKLESS DRIVING  \n",
       "103 2013-01-01 00:34:16  BURGLAR ALARM, SILEN  \n",
       "104 2013-01-01 00:35:48   DISCHARGING FIREARM  \n",
       "105 2013-01-01 00:36:32      TRAFFIC INCIDENT  \n",
       "106 2013-01-01 00:36:43               MEDICAL  \n",
       "107 2013-01-01 00:34:57  SIMPLE CRIMINAL DAMA  \n",
       "108 2013-01-01 00:36:29   DISCHARGING FIREARM  \n",
       "109 2013-01-01 00:37:09   DISTURBANCE (OTHER)  \n",
       "110 2013-01-01 00:36:31       SILENT 911 CALL  \n",
       "111 2013-01-01 00:37:40      TRAFFIC INCIDENT  \n",
       "112 2013-01-01 00:37:51   DISCHARGING FIREARM  \n",
       "113 2013-01-01 00:38:35       COMPLAINT OTHER  \n",
       "114 2013-01-01 00:37:57                 FIGHT  \n",
       "115 2013-01-01 00:40:02             FIREWORKS  \n",
       "116 2013-01-01 00:40:34  BURGLAR ALARM, SILEN  \n",
       "117 2013-01-01 00:41:48       COMPLAINT OTHER  \n",
       "118 2013-01-01 00:43:19       COMPLAINT OTHER  \n",
       "119 2013-01-01 00:40:39       COMPLAINT OTHER  "
      ]
     },
     "execution_count": 14,
     "metadata": {},
     "output_type": "execute_result"
    }
   ],
   "source": [
    "TableAll[100:120]"
   ]
  },
  {
   "cell_type": "code",
   "execution_count": 15,
   "metadata": {},
   "outputs": [
    {
     "data": {
      "text/plain": [
       "Timestamp('2012-12-31 23:59:34')"
      ]
     },
     "execution_count": 15,
     "metadata": {},
     "output_type": "execute_result"
    }
   ],
   "source": [
    "TableAll.TimeCreate[0]"
   ]
  },
  {
   "cell_type": "code",
   "execution_count": 16,
   "metadata": {},
   "outputs": [
    {
     "data": {
      "text/html": [
       "<div>\n",
       "<style>\n",
       "    .dataframe thead tr:only-child th {\n",
       "        text-align: right;\n",
       "    }\n",
       "\n",
       "    .dataframe thead th {\n",
       "        text-align: left;\n",
       "    }\n",
       "\n",
       "    .dataframe tbody tr th {\n",
       "        vertical-align: top;\n",
       "    }\n",
       "</style>\n",
       "<table border=\"1\" class=\"dataframe\">\n",
       "  <thead>\n",
       "    <tr style=\"text-align: right;\">\n",
       "      <th></th>\n",
       "      <th>Location</th>\n",
       "      <th>Response</th>\n",
       "      <th>TimeCreate</th>\n",
       "      <th>TypeText</th>\n",
       "    </tr>\n",
       "  </thead>\n",
       "  <tbody>\n",
       "    <tr>\n",
       "      <th>0</th>\n",
       "      <td>(29.960019973022543, -90.02123092953371)</td>\n",
       "      <td>[24, 23]</td>\n",
       "      <td>2012-12-31 23:59:34</td>\n",
       "      <td>DISCHARGING FIREARM</td>\n",
       "    </tr>\n",
       "    <tr>\n",
       "      <th>1</th>\n",
       "      <td>(29.92009950776069, -89.97771660629039)</td>\n",
       "      <td>[14, 46]</td>\n",
       "      <td>2012-12-31 23:59:49</td>\n",
       "      <td>DISCHARGING FIREARM</td>\n",
       "    </tr>\n",
       "    <tr>\n",
       "      <th>2</th>\n",
       "      <td>(29.956300375853115, -90.06310829672566)</td>\n",
       "      <td>InDef</td>\n",
       "      <td>2013-01-01 00:00:22</td>\n",
       "      <td>SHOPLIFTING</td>\n",
       "    </tr>\n",
       "    <tr>\n",
       "      <th>3</th>\n",
       "      <td>(29.961109350200267, -90.09359315760538)</td>\n",
       "      <td>[0, 4]</td>\n",
       "      <td>2013-01-01 00:00:29</td>\n",
       "      <td>COMPLAINT OTHER</td>\n",
       "    </tr>\n",
       "    <tr>\n",
       "      <th>4</th>\n",
       "      <td>(29.991690537674508, -90.11911498388514)</td>\n",
       "      <td>InDef</td>\n",
       "      <td>2013-01-01 00:00:22</td>\n",
       "      <td>BURGLAR ALARM, SILEN</td>\n",
       "    </tr>\n",
       "    <tr>\n",
       "      <th>5</th>\n",
       "      <td>(29.920379287323264, -90.11005402142804)</td>\n",
       "      <td>[36, 42]</td>\n",
       "      <td>2012-12-31 23:59:56</td>\n",
       "      <td>FIREWORKS</td>\n",
       "    </tr>\n",
       "    <tr>\n",
       "      <th>6</th>\n",
       "      <td>(29.98104990280563, -90.0742281157458)</td>\n",
       "      <td>[2, 17]</td>\n",
       "      <td>2013-01-01 00:01:04</td>\n",
       "      <td>COMPLAINT OTHER</td>\n",
       "    </tr>\n",
       "    <tr>\n",
       "      <th>7</th>\n",
       "      <td>(29.945420710183157, -90.04634357383449)</td>\n",
       "      <td>[6, 18]</td>\n",
       "      <td>2013-01-01 00:00:51</td>\n",
       "      <td>DISCHARGING FIREARM</td>\n",
       "    </tr>\n",
       "    <tr>\n",
       "      <th>8</th>\n",
       "      <td>(29.971456907990003, -90.0767086070737)</td>\n",
       "      <td>InDef</td>\n",
       "      <td>2013-01-01 00:01:55</td>\n",
       "      <td>DISCHARGING FIREARM</td>\n",
       "    </tr>\n",
       "    <tr>\n",
       "      <th>9</th>\n",
       "      <td>(29.938141661002234, -90.07968881566954)</td>\n",
       "      <td>[3, 6]</td>\n",
       "      <td>2013-01-01 00:01:54</td>\n",
       "      <td>DISCHARGING FIREARM</td>\n",
       "    </tr>\n",
       "  </tbody>\n",
       "</table>\n",
       "</div>"
      ],
      "text/plain": [
       "                                   Location  Response          TimeCreate  \\\n",
       "0  (29.960019973022543, -90.02123092953371)  [24, 23] 2012-12-31 23:59:34   \n",
       "1   (29.92009950776069, -89.97771660629039)  [14, 46] 2012-12-31 23:59:49   \n",
       "2  (29.956300375853115, -90.06310829672566)     InDef 2013-01-01 00:00:22   \n",
       "3  (29.961109350200267, -90.09359315760538)    [0, 4] 2013-01-01 00:00:29   \n",
       "4  (29.991690537674508, -90.11911498388514)     InDef 2013-01-01 00:00:22   \n",
       "5  (29.920379287323264, -90.11005402142804)  [36, 42] 2012-12-31 23:59:56   \n",
       "6    (29.98104990280563, -90.0742281157458)   [2, 17] 2013-01-01 00:01:04   \n",
       "7  (29.945420710183157, -90.04634357383449)   [6, 18] 2013-01-01 00:00:51   \n",
       "8   (29.971456907990003, -90.0767086070737)     InDef 2013-01-01 00:01:55   \n",
       "9  (29.938141661002234, -90.07968881566954)    [3, 6] 2013-01-01 00:01:54   \n",
       "\n",
       "               TypeText  \n",
       "0   DISCHARGING FIREARM  \n",
       "1   DISCHARGING FIREARM  \n",
       "2           SHOPLIFTING  \n",
       "3       COMPLAINT OTHER  \n",
       "4  BURGLAR ALARM, SILEN  \n",
       "5             FIREWORKS  \n",
       "6       COMPLAINT OTHER  \n",
       "7   DISCHARGING FIREARM  \n",
       "8   DISCHARGING FIREARM  \n",
       "9   DISCHARGING FIREARM  "
      ]
     },
     "execution_count": 16,
     "metadata": {},
     "output_type": "execute_result"
    }
   ],
   "source": [
    "TableAll[0:10]"
   ]
  },
  {
   "cell_type": "code",
   "execution_count": 91,
   "metadata": {},
   "outputs": [
    {
     "data": {
      "text/html": [
       "<div>\n",
       "<style>\n",
       "    .dataframe thead tr:only-child th {\n",
       "        text-align: right;\n",
       "    }\n",
       "\n",
       "    .dataframe thead th {\n",
       "        text-align: left;\n",
       "    }\n",
       "\n",
       "    .dataframe tbody tr th {\n",
       "        vertical-align: top;\n",
       "    }\n",
       "</style>\n",
       "<table border=\"1\" class=\"dataframe\">\n",
       "  <thead>\n",
       "    <tr style=\"text-align: right;\">\n",
       "      <th></th>\n",
       "      <th>0</th>\n",
       "    </tr>\n",
       "  </thead>\n",
       "  <tbody>\n",
       "    <tr>\n",
       "      <th>0</th>\n",
       "      <td>DOMESTIC DISTURBANCE</td>\n",
       "    </tr>\n",
       "    <tr>\n",
       "      <th>1</th>\n",
       "      <td>SIMPLE RAPE MALE VIC</td>\n",
       "    </tr>\n",
       "    <tr>\n",
       "      <th>2</th>\n",
       "      <td>UNDERAGE DRINKING VI</td>\n",
       "    </tr>\n",
       "    <tr>\n",
       "      <th>3</th>\n",
       "      <td>HIT &amp; RUN</td>\n",
       "    </tr>\n",
       "    <tr>\n",
       "      <th>4</th>\n",
       "      <td>HIT &amp; RUN CITY VEHICLE</td>\n",
       "    </tr>\n",
       "    <tr>\n",
       "      <th>5</th>\n",
       "      <td>DESECRATION OF GRAVES</td>\n",
       "    </tr>\n",
       "    <tr>\n",
       "      <th>6</th>\n",
       "      <td>ABANDONED VEHICLE</td>\n",
       "    </tr>\n",
       "    <tr>\n",
       "      <th>7</th>\n",
       "      <td>TRAFFIC CONGESTION</td>\n",
       "    </tr>\n",
       "    <tr>\n",
       "      <th>8</th>\n",
       "      <td>AGGRAVATED BATTERY</td>\n",
       "    </tr>\n",
       "    <tr>\n",
       "      <th>9</th>\n",
       "      <td>RESIDENCE CHECK</td>\n",
       "    </tr>\n",
       "    <tr>\n",
       "      <th>10</th>\n",
       "      <td>RETURN FOR ADDITIONAL INFO</td>\n",
       "    </tr>\n",
       "    <tr>\n",
       "      <th>11</th>\n",
       "      <td>SIMPLE ROBBERY, PROPERTY SNATCHING</td>\n",
       "    </tr>\n",
       "    <tr>\n",
       "      <th>12</th>\n",
       "      <td>NOISE COMPLAINT</td>\n",
       "    </tr>\n",
       "    <tr>\n",
       "      <th>13</th>\n",
       "      <td>ABANDONED BOAT</td>\n",
       "    </tr>\n",
       "    <tr>\n",
       "      <th>14</th>\n",
       "      <td>HOMICIDE</td>\n",
       "    </tr>\n",
       "    <tr>\n",
       "      <th>15</th>\n",
       "      <td>WARR STOP WITH RELEASE</td>\n",
       "    </tr>\n",
       "    <tr>\n",
       "      <th>16</th>\n",
       "      <td>ARMED ROBBERY WITH G</td>\n",
       "    </tr>\n",
       "    <tr>\n",
       "      <th>17</th>\n",
       "      <td>SIMPLE ROBBERY PROPE</td>\n",
       "    </tr>\n",
       "    <tr>\n",
       "      <th>18</th>\n",
       "      <td>CRIMINAL DAMAGE DOME</td>\n",
       "    </tr>\n",
       "    <tr>\n",
       "      <th>19</th>\n",
       "      <td>BURGLAR ALARM, SILEN</td>\n",
       "    </tr>\n",
       "    <tr>\n",
       "      <th>20</th>\n",
       "      <td>ARMED ROBBERY WITH K</td>\n",
       "    </tr>\n",
       "    <tr>\n",
       "      <th>21</th>\n",
       "      <td>FUGITIVE ATTACHMENT</td>\n",
       "    </tr>\n",
       "    <tr>\n",
       "      <th>22</th>\n",
       "      <td>PUBLIC BRIBERY</td>\n",
       "    </tr>\n",
       "    <tr>\n",
       "      <th>23</th>\n",
       "      <td>CRIMINAL MISCHIEF DOMESTIC</td>\n",
       "    </tr>\n",
       "    <tr>\n",
       "      <th>24</th>\n",
       "      <td>THEFT</td>\n",
       "    </tr>\n",
       "    <tr>\n",
       "      <th>25</th>\n",
       "      <td>HIGHTEST SCRIPTS.</td>\n",
       "    </tr>\n",
       "    <tr>\n",
       "      <th>26</th>\n",
       "      <td>DISTURBANCE (OTHER)</td>\n",
       "    </tr>\n",
       "    <tr>\n",
       "      <th>27</th>\n",
       "      <td>DESECRATION OF GRAVE</td>\n",
       "    </tr>\n",
       "    <tr>\n",
       "      <th>28</th>\n",
       "      <td>ILLEGAL CARRYING OF WEAPON- GUN</td>\n",
       "    </tr>\n",
       "    <tr>\n",
       "      <th>29</th>\n",
       "      <td>SIMPLE RAPE MALE VICTIM</td>\n",
       "    </tr>\n",
       "    <tr>\n",
       "      <th>...</th>\n",
       "      <td>...</td>\n",
       "    </tr>\n",
       "    <tr>\n",
       "      <th>199</th>\n",
       "      <td>CRIMINAL MISCHIEF</td>\n",
       "    </tr>\n",
       "    <tr>\n",
       "      <th>200</th>\n",
       "      <td>FIRE</td>\n",
       "    </tr>\n",
       "    <tr>\n",
       "      <th>201</th>\n",
       "      <td>FLOOD EVENT</td>\n",
       "    </tr>\n",
       "    <tr>\n",
       "      <th>202</th>\n",
       "      <td>SIMPLE CRIMINAL DAMA</td>\n",
       "    </tr>\n",
       "    <tr>\n",
       "      <th>203</th>\n",
       "      <td>FORGERY</td>\n",
       "    </tr>\n",
       "    <tr>\n",
       "      <th>204</th>\n",
       "      <td>WALKING BEAT</td>\n",
       "    </tr>\n",
       "    <tr>\n",
       "      <th>205</th>\n",
       "      <td>RECOVERY OF REPORTED</td>\n",
       "    </tr>\n",
       "    <tr>\n",
       "      <th>206</th>\n",
       "      <td>MEDICAL SEXUAL ASSAULT KIT PROCESSING</td>\n",
       "    </tr>\n",
       "    <tr>\n",
       "      <th>207</th>\n",
       "      <td>COMPLAINT OTHER</td>\n",
       "    </tr>\n",
       "    <tr>\n",
       "      <th>208</th>\n",
       "      <td>AUTO ACCIDENT POLICE VEHICLE</td>\n",
       "    </tr>\n",
       "    <tr>\n",
       "      <th>209</th>\n",
       "      <td>RETURN FOR ADD'L INF</td>\n",
       "    </tr>\n",
       "    <tr>\n",
       "      <th>210</th>\n",
       "      <td>AREA CHECK</td>\n",
       "    </tr>\n",
       "    <tr>\n",
       "      <th>211</th>\n",
       "      <td>BURGLAR ALARM, LOCAL</td>\n",
       "    </tr>\n",
       "    <tr>\n",
       "      <th>212</th>\n",
       "      <td>TRUANT VIOLATION</td>\n",
       "    </tr>\n",
       "    <tr>\n",
       "      <th>213</th>\n",
       "      <td>HOLD UP ALARM</td>\n",
       "    </tr>\n",
       "    <tr>\n",
       "      <th>214</th>\n",
       "      <td>UNDERAGE DRINKING VIOLATION</td>\n",
       "    </tr>\n",
       "    <tr>\n",
       "      <th>215</th>\n",
       "      <td>HIT &amp; RUN WITH INJUR</td>\n",
       "    </tr>\n",
       "    <tr>\n",
       "      <th>216</th>\n",
       "      <td>DRUNK</td>\n",
       "    </tr>\n",
       "    <tr>\n",
       "      <th>217</th>\n",
       "      <td>CRIME AGAINST NATURE</td>\n",
       "    </tr>\n",
       "    <tr>\n",
       "      <th>218</th>\n",
       "      <td>ORAL SEXUAL BATTERY</td>\n",
       "    </tr>\n",
       "    <tr>\n",
       "      <th>219</th>\n",
       "      <td>SIMPLE ASSAULT DOMES</td>\n",
       "    </tr>\n",
       "    <tr>\n",
       "      <th>220</th>\n",
       "      <td>SIMPLE ROBBERY</td>\n",
       "    </tr>\n",
       "    <tr>\n",
       "      <th>221</th>\n",
       "      <td>DISPERSE SUBJECTS</td>\n",
       "    </tr>\n",
       "    <tr>\n",
       "      <th>222</th>\n",
       "      <td>AUTO ACCIDENT</td>\n",
       "    </tr>\n",
       "    <tr>\n",
       "      <th>223</th>\n",
       "      <td>DRIVING WHILE UNDER</td>\n",
       "    </tr>\n",
       "    <tr>\n",
       "      <th>224</th>\n",
       "      <td>HOMICIDE BY CUTTING</td>\n",
       "    </tr>\n",
       "    <tr>\n",
       "      <th>225</th>\n",
       "      <td>AGGRAVATED BATTERY BY KNIFE</td>\n",
       "    </tr>\n",
       "    <tr>\n",
       "      <th>226</th>\n",
       "      <td>WRECKLESS DRIVING</td>\n",
       "    </tr>\n",
       "    <tr>\n",
       "      <th>227</th>\n",
       "      <td>OBSCENITY, EXPOSING</td>\n",
       "    </tr>\n",
       "    <tr>\n",
       "      <th>228</th>\n",
       "      <td>TEST INCIDENT</td>\n",
       "    </tr>\n",
       "  </tbody>\n",
       "</table>\n",
       "<p>229 rows × 1 columns</p>\n",
       "</div>"
      ],
      "text/plain": [
       "                                         0\n",
       "0                     DOMESTIC DISTURBANCE\n",
       "1                     SIMPLE RAPE MALE VIC\n",
       "2                     UNDERAGE DRINKING VI\n",
       "3                                HIT & RUN\n",
       "4                   HIT & RUN CITY VEHICLE\n",
       "5                    DESECRATION OF GRAVES\n",
       "6                        ABANDONED VEHICLE\n",
       "7                       TRAFFIC CONGESTION\n",
       "8                       AGGRAVATED BATTERY\n",
       "9                          RESIDENCE CHECK\n",
       "10              RETURN FOR ADDITIONAL INFO\n",
       "11      SIMPLE ROBBERY, PROPERTY SNATCHING\n",
       "12                         NOISE COMPLAINT\n",
       "13                          ABANDONED BOAT\n",
       "14                                HOMICIDE\n",
       "15                  WARR STOP WITH RELEASE\n",
       "16                    ARMED ROBBERY WITH G\n",
       "17                    SIMPLE ROBBERY PROPE\n",
       "18                    CRIMINAL DAMAGE DOME\n",
       "19                    BURGLAR ALARM, SILEN\n",
       "20                    ARMED ROBBERY WITH K\n",
       "21                     FUGITIVE ATTACHMENT\n",
       "22                          PUBLIC BRIBERY\n",
       "23              CRIMINAL MISCHIEF DOMESTIC\n",
       "24                                   THEFT\n",
       "25                       HIGHTEST SCRIPTS.\n",
       "26                     DISTURBANCE (OTHER)\n",
       "27                    DESECRATION OF GRAVE\n",
       "28         ILLEGAL CARRYING OF WEAPON- GUN\n",
       "29                 SIMPLE RAPE MALE VICTIM\n",
       "..                                     ...\n",
       "199                      CRIMINAL MISCHIEF\n",
       "200                                   FIRE\n",
       "201                            FLOOD EVENT\n",
       "202                   SIMPLE CRIMINAL DAMA\n",
       "203                                FORGERY\n",
       "204                           WALKING BEAT\n",
       "205                   RECOVERY OF REPORTED\n",
       "206  MEDICAL SEXUAL ASSAULT KIT PROCESSING\n",
       "207                        COMPLAINT OTHER\n",
       "208           AUTO ACCIDENT POLICE VEHICLE\n",
       "209                   RETURN FOR ADD'L INF\n",
       "210                             AREA CHECK\n",
       "211                   BURGLAR ALARM, LOCAL\n",
       "212                       TRUANT VIOLATION\n",
       "213                          HOLD UP ALARM\n",
       "214            UNDERAGE DRINKING VIOLATION\n",
       "215                   HIT & RUN WITH INJUR\n",
       "216                                  DRUNK\n",
       "217                   CRIME AGAINST NATURE\n",
       "218                    ORAL SEXUAL BATTERY\n",
       "219                   SIMPLE ASSAULT DOMES\n",
       "220                         SIMPLE ROBBERY\n",
       "221                      DISPERSE SUBJECTS\n",
       "222                          AUTO ACCIDENT\n",
       "223                    DRIVING WHILE UNDER\n",
       "224                    HOMICIDE BY CUTTING\n",
       "225            AGGRAVATED BATTERY BY KNIFE\n",
       "226                      WRECKLESS DRIVING\n",
       "227                    OBSCENITY, EXPOSING\n",
       "228                          TEST INCIDENT\n",
       "\n",
       "[229 rows x 1 columns]"
      ]
     },
     "execution_count": 91,
     "metadata": {},
     "output_type": "execute_result"
    }
   ],
   "source": [
    "pd.DataFrame(list(set(TableAll.TypeText)))"
   ]
  },
  {
   "cell_type": "code",
   "execution_count": 18,
   "metadata": {
    "collapsed": true
   },
   "outputs": [],
   "source": [
    "#Type 1: walking problems---'Assault','Rape','Robbery','Battery','Homicide','PickPocket','Theft'\n",
    "#Type 2: housing problems---'Burglary','Burglar'\n",
    "#Type 3: driving problems---'Auto','Carjacking','Hit & Run', 'Traffic incidents'"
   ]
  },
  {
   "cell_type": "code",
   "execution_count": null,
   "metadata": {
    "collapsed": true
   },
   "outputs": [],
   "source": []
  },
  {
   "cell_type": "code",
   "execution_count": 19,
   "metadata": {},
   "outputs": [
    {
     "name": "stdout",
     "output_type": "stream",
     "text": [
      "0.528086395442\n"
     ]
    }
   ],
   "source": [
    "#testcase                     #b is the university square\n",
    "a=(29.936217,-90.128052)\n",
    "b=(29.929783,-90.132808)\n",
    "print(great_circle(a, b).miles)"
   ]
  },
  {
   "cell_type": "code",
   "execution_count": 20,
   "metadata": {},
   "outputs": [
    {
     "name": "stdout",
     "output_type": "stream",
     "text": [
      "0.632233994067\n"
     ]
    }
   ],
   "source": [
    "#testcase_2\n",
    "b=(29.929783,-90.132808)\n",
    "c=(29.937338,-90.126856)\n",
    "print(great_circle(b, c).miles)"
   ]
  },
  {
   "cell_type": "code",
   "execution_count": 21,
   "metadata": {},
   "outputs": [
    {
     "data": {
      "text/plain": [
       "tuple"
      ]
     },
     "execution_count": 21,
     "metadata": {},
     "output_type": "execute_result"
    }
   ],
   "source": [
    "type(b)"
   ]
  },
  {
   "cell_type": "code",
   "execution_count": 22,
   "metadata": {},
   "outputs": [
    {
     "data": {
      "text/plain": [
       "(29.9299008979592, -90.1327338979592)"
      ]
     },
     "execution_count": 22,
     "metadata": {},
     "output_type": "execute_result"
    }
   ],
   "source": [
    "#testcase_3\n",
    "Location='210 Broadway, New Orleans'\n",
    "loctemp=geolocator.geocode(Location)\n",
    "coord=(loctemp.latitude, loctemp.longitude)\n",
    "coord"
   ]
  },
  {
   "cell_type": "code",
   "execution_count": 23,
   "metadata": {},
   "outputs": [
    {
     "data": {
      "text/plain": [
       "0.8340966514459665"
      ]
     },
     "execution_count": 23,
     "metadata": {},
     "output_type": "execute_result"
    }
   ],
   "source": [
    "len(TableAll)*1.0/24/365/5/60   #two millions of phone calls in the past five years, averaging about ONE 911 call each minute"
   ]
  },
  {
   "cell_type": "code",
   "execution_count": 24,
   "metadata": {
    "collapsed": true
   },
   "outputs": [],
   "source": [
    "#aa=pd.DataFrame([{'Location':a}]*len(TableAll))"
   ]
  },
  {
   "cell_type": "code",
   "execution_count": 25,
   "metadata": {},
   "outputs": [
    {
     "data": {
      "text/plain": [
       "0    (29.960019973022543, -90.02123092953371)\n",
       "1     (29.92009950776069, -89.97771660629039)\n",
       "2    (29.956300375853115, -90.06310829672566)\n",
       "3    (29.961109350200267, -90.09359315760538)\n",
       "4    (29.991690537674508, -90.11911498388514)\n",
       "5    (29.920379287323264, -90.11005402142804)\n",
       "6      (29.98104990280563, -90.0742281157458)\n",
       "7    (29.945420710183157, -90.04634357383449)\n",
       "8     (29.971456907990003, -90.0767086070737)\n",
       "9    (29.938141661002234, -90.07968881566954)\n",
       "Name: Location, dtype: object"
      ]
     },
     "execution_count": 25,
     "metadata": {},
     "output_type": "execute_result"
    }
   ],
   "source": [
    "TableAll.Location[0:10]"
   ]
  },
  {
   "cell_type": "code",
   "execution_count": 26,
   "metadata": {},
   "outputs": [
    {
     "data": {
      "text/plain": [
       "Distance(10.6298670768)"
      ]
     },
     "execution_count": 26,
     "metadata": {},
     "output_type": "execute_result"
    }
   ],
   "source": [
    "great_circle((29.960019973022543, -90.02123092953371),a)"
   ]
  },
  {
   "cell_type": "code",
   "execution_count": 27,
   "metadata": {},
   "outputs": [
    {
     "data": {
      "text/plain": [
       "pandas.core.series.Series"
      ]
     },
     "execution_count": 27,
     "metadata": {},
     "output_type": "execute_result"
    }
   ],
   "source": [
    "type(TableAll.Location)"
   ]
  },
  {
   "cell_type": "code",
   "execution_count": 28,
   "metadata": {
    "collapsed": true
   },
   "outputs": [],
   "source": [
    "a=(29.936217,-90.128052)\n",
    "Radius=1"
   ]
  },
  {
   "cell_type": "code",
   "execution_count": 29,
   "metadata": {},
   "outputs": [
    {
     "data": {
      "text/plain": [
       "Distance(10.6298670768)"
      ]
     },
     "execution_count": 29,
     "metadata": {},
     "output_type": "execute_result"
    }
   ],
   "source": [
    "great_circle(TableAll.Location[0],a)"
   ]
  },
  {
   "cell_type": "code",
   "execution_count": 30,
   "metadata": {},
   "outputs": [
    {
     "data": {
      "text/plain": [
       "True"
      ]
     },
     "execution_count": 30,
     "metadata": {},
     "output_type": "execute_result"
    }
   ],
   "source": [
    "great_circle((TableAll.Location[0]),a)<11"
   ]
  },
  {
   "cell_type": "code",
   "execution_count": 31,
   "metadata": {},
   "outputs": [
    {
     "data": {
      "text/plain": [
       "(29.936217, -90.128052)"
      ]
     },
     "execution_count": 31,
     "metadata": {},
     "output_type": "execute_result"
    }
   ],
   "source": [
    "a"
   ]
  },
  {
   "cell_type": "code",
   "execution_count": 32,
   "metadata": {
    "collapsed": true
   },
   "outputs": [],
   "source": [
    "flag=[]\n",
    "for sth in TableAll.Location:\n",
    "    try:\n",
    "        flag.append(great_circle(sth,a).miles<=radius)\n",
    "    except:\n",
    "        flag.append(1==0)\n",
    "        "
   ]
  },
  {
   "cell_type": "code",
   "execution_count": 33,
   "metadata": {
    "collapsed": true
   },
   "outputs": [],
   "source": [
    "test=TableAll[flag]"
   ]
  },
  {
   "cell_type": "code",
   "execution_count": 34,
   "metadata": {
    "collapsed": true
   },
   "outputs": [],
   "source": [
    "#test"
   ]
  },
  {
   "cell_type": "code",
   "execution_count": 35,
   "metadata": {
    "collapsed": true
   },
   "outputs": [],
   "source": [
    "#test=TableAll[TableAll.apply(lambda x: great_circle(x['TableAll.Location'],a) <Radius)]"
   ]
  },
  {
   "cell_type": "code",
   "execution_count": 36,
   "metadata": {
    "collapsed": true
   },
   "outputs": [],
   "source": [
    "def TableFilter(Location, R):    \n",
    "    #Radius is in units of miles and is the pool for predictions\n",
    "    #Location is in coordinates or street adress\n",
    "    if isinstance(Location, str):\n",
    "        loctemp=geolocator.geocode(Location)\n",
    "        coord=(loctemp.latitude, loctemp.longitude)\n",
    "    else:\n",
    "        coord=Location\n",
    "    \n",
    "    #H=datetime.strptime(Time,'%m/%d/%Y %I:%M:%S %p').hour\n",
    "    #D=datetime.strptime(Time,'%m/%d/%Y %I:%M:%S %p').weekday()\n",
    "    \n",
    "    flag=[]\n",
    "    for sth in TableAll.Location:\n",
    "        try:\n",
    "            flag.append(great_circle(sth,coord).miles < R)\n",
    "        except:\n",
    "            flag.append(1==0)\n",
    "            \n",
    "    TableFiltered=TableAll[flag]\n",
    "    \n",
    "    return TableFiltered"
   ]
  },
  {
   "cell_type": "code",
   "execution_count": 37,
   "metadata": {
    "collapsed": true
   },
   "outputs": [],
   "source": [
    "test=TableFilter('210 Broadway, New Orleans',1)"
   ]
  },
  {
   "cell_type": "code",
   "execution_count": 38,
   "metadata": {},
   "outputs": [
    {
     "data": {
      "text/plain": [
       "True"
      ]
     },
     "execution_count": 38,
     "metadata": {},
     "output_type": "execute_result"
    }
   ],
   "source": [
    "Location='210 Broadway, New Orleans'\n",
    "loctemp=geolocator.geocode(Location)\n",
    "coord=(loctemp.latitude, loctemp.longitude)\n",
    "great_circle(coord,(29.93615175, -90.13249778)).miles<=1"
   ]
  },
  {
   "cell_type": "code",
   "execution_count": 39,
   "metadata": {},
   "outputs": [
    {
     "data": {
      "text/plain": [
       "(29.9299008979592, -90.1327338979592)"
      ]
     },
     "execution_count": 39,
     "metadata": {},
     "output_type": "execute_result"
    }
   ],
   "source": [
    "coord"
   ]
  },
  {
   "cell_type": "code",
   "execution_count": 40,
   "metadata": {},
   "outputs": [
    {
     "data": {
      "text/html": [
       "<div>\n",
       "<style>\n",
       "    .dataframe thead tr:only-child th {\n",
       "        text-align: right;\n",
       "    }\n",
       "\n",
       "    .dataframe thead th {\n",
       "        text-align: left;\n",
       "    }\n",
       "\n",
       "    .dataframe tbody tr th {\n",
       "        vertical-align: top;\n",
       "    }\n",
       "</style>\n",
       "<table border=\"1\" class=\"dataframe\">\n",
       "  <thead>\n",
       "    <tr style=\"text-align: right;\">\n",
       "      <th></th>\n",
       "      <th>Location</th>\n",
       "      <th>Response</th>\n",
       "      <th>TimeCreate</th>\n",
       "      <th>TypeText</th>\n",
       "    </tr>\n",
       "  </thead>\n",
       "  <tbody>\n",
       "    <tr>\n",
       "      <th>2189115</th>\n",
       "      <td>(29.9284967, -90.11999732)</td>\n",
       "      <td>[345, 2]</td>\n",
       "      <td>2017-12-29 12:09:29</td>\n",
       "      <td>HIT &amp; RUN</td>\n",
       "    </tr>\n",
       "    <tr>\n",
       "      <th>2189140</th>\n",
       "      <td>(29.92349991, -90.12002187)</td>\n",
       "      <td>InDef</td>\n",
       "      <td>2017-12-29 12:34:19</td>\n",
       "      <td>THEFT BY FRAUD</td>\n",
       "    </tr>\n",
       "    <tr>\n",
       "      <th>2189521</th>\n",
       "      <td>(29.9289634, -90.11824861)</td>\n",
       "      <td>[4, 0]</td>\n",
       "      <td>2017-12-29 19:07:27</td>\n",
       "      <td>HOLD UP ALARM</td>\n",
       "    </tr>\n",
       "    <tr>\n",
       "      <th>2189639</th>\n",
       "      <td>(29.925896, -90.1335055)</td>\n",
       "      <td>[7, 17]</td>\n",
       "      <td>2017-12-29 20:57:40</td>\n",
       "      <td>COMPLAINT OTHER</td>\n",
       "    </tr>\n",
       "    <tr>\n",
       "      <th>2189902</th>\n",
       "      <td>(29.92771766, -90.13357425)</td>\n",
       "      <td>[17, 35]</td>\n",
       "      <td>2017-12-30 03:08:31</td>\n",
       "      <td>COMPLAINT OTHER</td>\n",
       "    </tr>\n",
       "    <tr>\n",
       "      <th>2189976</th>\n",
       "      <td>(29.92222311, -90.12294204)</td>\n",
       "      <td>[0, 6]</td>\n",
       "      <td>2017-12-30 07:54:31</td>\n",
       "      <td>BUSINESS CHECK</td>\n",
       "    </tr>\n",
       "    <tr>\n",
       "      <th>2190022</th>\n",
       "      <td>(29.9425177, -90.12474522)</td>\n",
       "      <td>[8, 21]</td>\n",
       "      <td>2017-12-30 09:02:44</td>\n",
       "      <td>BURGLAR ALARM, SILENT</td>\n",
       "    </tr>\n",
       "    <tr>\n",
       "      <th>2190153</th>\n",
       "      <td>(29.93237145, -90.12007842)</td>\n",
       "      <td>[0, 8]</td>\n",
       "      <td>2017-12-30 12:19:50</td>\n",
       "      <td>TRAFFIC INCIDENT</td>\n",
       "    </tr>\n",
       "    <tr>\n",
       "      <th>2190338</th>\n",
       "      <td>(29.92465744, -90.12220026)</td>\n",
       "      <td>[9, 1]</td>\n",
       "      <td>2017-12-30 15:40:33</td>\n",
       "      <td>BURGLAR ALARM, SILENT</td>\n",
       "    </tr>\n",
       "    <tr>\n",
       "      <th>2190452</th>\n",
       "      <td>(29.92331898, -90.11871815)</td>\n",
       "      <td>[4, 11]</td>\n",
       "      <td>2017-12-30 17:29:03</td>\n",
       "      <td>DISCHARGING FIREARM</td>\n",
       "    </tr>\n",
       "  </tbody>\n",
       "</table>\n",
       "</div>"
      ],
      "text/plain": [
       "                            Location  Response          TimeCreate  \\\n",
       "2189115   (29.9284967, -90.11999732)  [345, 2] 2017-12-29 12:09:29   \n",
       "2189140  (29.92349991, -90.12002187)     InDef 2017-12-29 12:34:19   \n",
       "2189521   (29.9289634, -90.11824861)    [4, 0] 2017-12-29 19:07:27   \n",
       "2189639     (29.925896, -90.1335055)   [7, 17] 2017-12-29 20:57:40   \n",
       "2189902  (29.92771766, -90.13357425)  [17, 35] 2017-12-30 03:08:31   \n",
       "2189976  (29.92222311, -90.12294204)    [0, 6] 2017-12-30 07:54:31   \n",
       "2190022   (29.9425177, -90.12474522)   [8, 21] 2017-12-30 09:02:44   \n",
       "2190153  (29.93237145, -90.12007842)    [0, 8] 2017-12-30 12:19:50   \n",
       "2190338  (29.92465744, -90.12220026)    [9, 1] 2017-12-30 15:40:33   \n",
       "2190452  (29.92331898, -90.11871815)   [4, 11] 2017-12-30 17:29:03   \n",
       "\n",
       "                      TypeText  \n",
       "2189115              HIT & RUN  \n",
       "2189140         THEFT BY FRAUD  \n",
       "2189521          HOLD UP ALARM  \n",
       "2189639        COMPLAINT OTHER  \n",
       "2189902        COMPLAINT OTHER  \n",
       "2189976         BUSINESS CHECK  \n",
       "2190022  BURGLAR ALARM, SILENT  \n",
       "2190153       TRAFFIC INCIDENT  \n",
       "2190338  BURGLAR ALARM, SILENT  \n",
       "2190452    DISCHARGING FIREARM  "
      ]
     },
     "execution_count": 40,
     "metadata": {},
     "output_type": "execute_result"
    }
   ],
   "source": [
    "test[-20:-10]"
   ]
  },
  {
   "cell_type": "code",
   "execution_count": 41,
   "metadata": {
    "collapsed": true
   },
   "outputs": [],
   "source": [
    "#Type 1: walking problems---'Assault','Rape','Robbery','Battery','Homicide','PickPocket','Theft'\n",
    "#Type 2: housing problems---'Burglary','Burglar'\n",
    "#Type 3: driving problems---'Auto','Carjacking','Hit & Run', 'Traffic incidents'\n",
    "def Walking(Table):\n",
    "    flag=[]\n",
    "    for i in Table.TypeText:\n",
    "        sth=str(i).lower()\n",
    "        try:\n",
    "            flag.append('assault' in sth or 'rape' in sth or 'robbery' in sth or 'battery' in sth \n",
    "                        or 'homicide' in sth) #or 'pickPocket' in sth or 'theft' in sth)\n",
    "        except:\n",
    "            flag.append(1==0)\n",
    "    \n",
    "    return Table[flag]"
   ]
  },
  {
   "cell_type": "code",
   "execution_count": 42,
   "metadata": {
    "collapsed": true
   },
   "outputs": [],
   "source": [
    "def Housing(Table):\n",
    "    flag=[]\n",
    "    for i in Table.TypeText:\n",
    "        sth=str(i).lower()\n",
    "        try:\n",
    "            flag.append('burglar' in sth)\n",
    "        except:\n",
    "            flag.append(1==0)\n",
    "    \n",
    "    return Table[flag]"
   ]
  },
  {
   "cell_type": "code",
   "execution_count": 43,
   "metadata": {
    "collapsed": true
   },
   "outputs": [],
   "source": [
    "def Driving(Table):\n",
    "    flag=[]\n",
    "    for i in Table.TypeText:\n",
    "        sth=str(i).lower()\n",
    "        try:\n",
    "            flag.append('auto' in sth or 'carjacking' in sth or 'hit & run' in sth \n",
    "                        or 'traffic incident' in sth or 'accid' in sth)\n",
    "        except:\n",
    "            flag.append(1==0)\n",
    "    \n",
    "    return Table[flag]"
   ]
  },
  {
   "cell_type": "code",
   "execution_count": 44,
   "metadata": {},
   "outputs": [
    {
     "data": {
      "text/plain": [
       "True"
      ]
     },
     "execution_count": 44,
     "metadata": {},
     "output_type": "execute_result"
    }
   ],
   "source": [
    "'burglar' in str(test.TypeText[0:1]).lower()"
   ]
  },
  {
   "cell_type": "code",
   "execution_count": 45,
   "metadata": {},
   "outputs": [
    {
     "data": {
      "text/plain": [
       "351"
      ]
     },
     "execution_count": 45,
     "metadata": {},
     "output_type": "execute_result"
    }
   ],
   "source": [
    "test_w=Walking(test)\n",
    "len(test_w)"
   ]
  },
  {
   "cell_type": "code",
   "execution_count": 46,
   "metadata": {},
   "outputs": [
    {
     "data": {
      "text/html": [
       "<div>\n",
       "<style>\n",
       "    .dataframe thead tr:only-child th {\n",
       "        text-align: right;\n",
       "    }\n",
       "\n",
       "    .dataframe thead th {\n",
       "        text-align: left;\n",
       "    }\n",
       "\n",
       "    .dataframe tbody tr th {\n",
       "        vertical-align: top;\n",
       "    }\n",
       "</style>\n",
       "<table border=\"1\" class=\"dataframe\">\n",
       "  <thead>\n",
       "    <tr style=\"text-align: right;\">\n",
       "      <th></th>\n",
       "      <th>Location</th>\n",
       "      <th>Response</th>\n",
       "      <th>TimeCreate</th>\n",
       "      <th>TypeText</th>\n",
       "    </tr>\n",
       "  </thead>\n",
       "  <tbody>\n",
       "    <tr>\n",
       "      <th>270867</th>\n",
       "      <td>(29.940524303172882, -90.12417702417154)</td>\n",
       "      <td>[12, 57]</td>\n",
       "      <td>2013-08-01 15:21:47</td>\n",
       "      <td>SIMPLE BATTERY DOMES</td>\n",
       "    </tr>\n",
       "    <tr>\n",
       "      <th>287847</th>\n",
       "      <td>(29.92221069295898, -90.1219301410225)</td>\n",
       "      <td>[211, 44]</td>\n",
       "      <td>2013-08-14 20:52:28</td>\n",
       "      <td>SIMPLE BATTERY</td>\n",
       "    </tr>\n",
       "    <tr>\n",
       "      <th>298593</th>\n",
       "      <td>(29.92273023194301, -90.12340129739144)</td>\n",
       "      <td>[6, 24]</td>\n",
       "      <td>2013-08-23 00:21:05</td>\n",
       "      <td>SIMPLE BATTERY</td>\n",
       "    </tr>\n",
       "    <tr>\n",
       "      <th>298598</th>\n",
       "      <td>(29.92273023194301, -90.12340129739144)</td>\n",
       "      <td>InDef</td>\n",
       "      <td>2013-08-23 00:24:39</td>\n",
       "      <td>SIMPLE BATTERY</td>\n",
       "    </tr>\n",
       "    <tr>\n",
       "      <th>298730</th>\n",
       "      <td>(29.940271839993994, -90.12363698892221)</td>\n",
       "      <td>InDef</td>\n",
       "      <td>2013-08-23 03:44:11</td>\n",
       "      <td>SIMPLE BATTERY</td>\n",
       "    </tr>\n",
       "    <tr>\n",
       "      <th>300165</th>\n",
       "      <td>(29.929296564819424, -90.11885428821782)</td>\n",
       "      <td>[25, 8]</td>\n",
       "      <td>2013-08-24 03:52:41</td>\n",
       "      <td>SIMPLE BATTERY</td>\n",
       "    </tr>\n",
       "    <tr>\n",
       "      <th>301313</th>\n",
       "      <td>(29.941338251667272, -90.12357354102943)</td>\n",
       "      <td>[363, 13]</td>\n",
       "      <td>2013-08-25 01:34:21</td>\n",
       "      <td>SIMPLE BATTERY</td>\n",
       "    </tr>\n",
       "    <tr>\n",
       "      <th>301514</th>\n",
       "      <td>(29.923360745474806, -90.12438179194419)</td>\n",
       "      <td>[12, 45]</td>\n",
       "      <td>2013-08-25 07:09:44</td>\n",
       "      <td>SIMPLE BATTERY DOMES</td>\n",
       "    </tr>\n",
       "    <tr>\n",
       "      <th>301938</th>\n",
       "      <td>(29.941397741458296, -90.128858574148)</td>\n",
       "      <td>[151, 23]</td>\n",
       "      <td>2013-08-25 16:55:31</td>\n",
       "      <td>AGGRAVATED ASSAULT</td>\n",
       "    </tr>\n",
       "    <tr>\n",
       "      <th>303532</th>\n",
       "      <td>(29.917690019251754, -90.12705168432302)</td>\n",
       "      <td>InDef</td>\n",
       "      <td>2013-08-26 22:11:05</td>\n",
       "      <td>SIMPLE BATTERY</td>\n",
       "    </tr>\n",
       "  </tbody>\n",
       "</table>\n",
       "</div>"
      ],
      "text/plain": [
       "                                        Location   Response  \\\n",
       "270867  (29.940524303172882, -90.12417702417154)   [12, 57]   \n",
       "287847    (29.92221069295898, -90.1219301410225)  [211, 44]   \n",
       "298593   (29.92273023194301, -90.12340129739144)    [6, 24]   \n",
       "298598   (29.92273023194301, -90.12340129739144)      InDef   \n",
       "298730  (29.940271839993994, -90.12363698892221)      InDef   \n",
       "300165  (29.929296564819424, -90.11885428821782)    [25, 8]   \n",
       "301313  (29.941338251667272, -90.12357354102943)  [363, 13]   \n",
       "301514  (29.923360745474806, -90.12438179194419)   [12, 45]   \n",
       "301938    (29.941397741458296, -90.128858574148)  [151, 23]   \n",
       "303532  (29.917690019251754, -90.12705168432302)      InDef   \n",
       "\n",
       "                TimeCreate              TypeText  \n",
       "270867 2013-08-01 15:21:47  SIMPLE BATTERY DOMES  \n",
       "287847 2013-08-14 20:52:28        SIMPLE BATTERY  \n",
       "298593 2013-08-23 00:21:05        SIMPLE BATTERY  \n",
       "298598 2013-08-23 00:24:39        SIMPLE BATTERY  \n",
       "298730 2013-08-23 03:44:11        SIMPLE BATTERY  \n",
       "300165 2013-08-24 03:52:41        SIMPLE BATTERY  \n",
       "301313 2013-08-25 01:34:21        SIMPLE BATTERY  \n",
       "301514 2013-08-25 07:09:44  SIMPLE BATTERY DOMES  \n",
       "301938 2013-08-25 16:55:31    AGGRAVATED ASSAULT  \n",
       "303532 2013-08-26 22:11:05        SIMPLE BATTERY  "
      ]
     },
     "execution_count": 46,
     "metadata": {},
     "output_type": "execute_result"
    }
   ],
   "source": [
    "test_w[40:50]"
   ]
  },
  {
   "cell_type": "code",
   "execution_count": 47,
   "metadata": {
    "collapsed": true
   },
   "outputs": [],
   "source": [
    "x=test_w.TimeCreate.values"
   ]
  },
  {
   "cell_type": "code",
   "execution_count": 48,
   "metadata": {
    "collapsed": true
   },
   "outputs": [],
   "source": [
    "#x"
   ]
  },
  {
   "cell_type": "code",
   "execution_count": 49,
   "metadata": {},
   "outputs": [
    {
     "data": {
      "text/plain": [
       "1"
      ]
     },
     "execution_count": 49,
     "metadata": {},
     "output_type": "execute_result"
    }
   ],
   "source": [
    "datetime.utcfromtimestamp(x[1].tolist()/1e9).hour"
   ]
  },
  {
   "cell_type": "code",
   "execution_count": 50,
   "metadata": {},
   "outputs": [
    {
     "name": "stdout",
     "output_type": "stream",
     "text": [
      "3 1\n"
     ]
    }
   ],
   "source": [
    "mytime='02/15/2018 01:30:00 am'\n",
    "temp=datetime.strptime(mytime,'%m/%d/%Y %I:%M:%S %p')\n",
    "myday=temp.weekday()\n",
    "myhour=temp.hour\n",
    "print myday,myhour"
   ]
  },
  {
   "cell_type": "code",
   "execution_count": 51,
   "metadata": {},
   "outputs": [
    {
     "data": {
      "text/plain": [
       "array([[36, 48], [81, 7], [12, 11], [33, 18], [1, 5], [80, 58], 'InDef',\n",
       "       [5, 5], 'InDef', [10, 42], [12, 4], [10, 34], 'InDef', [7, 45],\n",
       "       [76, 59], 'InDef', 'InDef', [7, 1], [14, 32], [11, 16], [124, 36],\n",
       "       [8, 50], [142, 23], [10, 0], [5, 40], [13, 17], [19, 25], [46, 53],\n",
       "       [9, 8], 'InDef', 'InDef', [29, 6], [1, 26], [6, 44], [12, 42],\n",
       "       [0, 7], [7, 30], [9, 2], [33, 28], [6, 43], [12, 57], [211, 44],\n",
       "       [6, 24], 'InDef', 'InDef', [25, 8], [363, 13], [12, 45], [151, 23],\n",
       "       'InDef', [15, 13], [178, 56], [13, 41], [3, 36], 'InDef', [9, 59],\n",
       "       'InDef', [4, 40], 'InDef', [15, 11], [3, 59], 'InDef', [645, 46],\n",
       "       'InDef', 'InDef', [10, 35], 'InDef', [17, 20], [10, 42], [3, 28],\n",
       "       [10, 2], 'InDef', [7, 52], 'InDef', 'InDef', 'InDef', 'InDef',\n",
       "       'InDef', 'InDef', [118, 17], [278, 24], [98, 31], [6, 3], 'InDef',\n",
       "       'InDef', [35, 20], [345, 17], 'InDef', 'InDef', [19, 26], [5, 1],\n",
       "       [10, 9], [4, 49], [222, 38], [10, 26], 'InDef', 'InDef', [4, 5],\n",
       "       [6, 46], [195, 49], [8, 50], [17, 7], [0, 8], [42, 48], [11, 37],\n",
       "       'InDef', [243, 53], [10, 21], [13, 6], [4, 54], [171, 11], [36, 58],\n",
       "       [7, 2], 'InDef', [11, 59], [123, 55], 'InDef', [594, 33], [254, 55],\n",
       "       [3, 56], 'InDef', [117, 13], [3, 49], 'InDef', [11, 3], [6, 10],\n",
       "       [4, 56], [18, 19], [486, 32], [22, 11], 'InDef', 'InDef', 'InDef',\n",
       "       'InDef', [3, 48], [22, 40], [148, 29], 'InDef', 'InDef', [3, 54],\n",
       "       [5, 3], 'InDef', 'InDef', 'InDef', [86, 37], [6, 9], [11, 9],\n",
       "       [25, 37], 'InDef', 'InDef', 'InDef', [157, 12], 'InDef', 'InDef',\n",
       "       [68, 30], [13, 23], [11, 47], 'InDef', [131, 51], 'InDef', [4, 36],\n",
       "       [3, 58], 'InDef', [8, 59], 'InDef', 'InDef', [159, 33], [17, 38],\n",
       "       [12, 6], [10, 11], [30, 56], [374, 29], [180, 14], [7, 39], [0, 9],\n",
       "       [10, 54], [4, 33], [18, 55], [8, 36], [19, 17], [8, 59], 'InDef',\n",
       "       [7, 25], [3, 35], 'InDef', 'InDef', [7, 54], [62, 24], [3, 58],\n",
       "       [15, 29], [11, 14], 'InDef', [133, 49], [329, 17], [7, 48], 'InDef',\n",
       "       [1, 15], [65, 30], [12, 47], [34, 22], [5, 40], [5, 21], [149, 50],\n",
       "       [13, 46], [156, 1], [231, 9], [1, 52], [29, 49], [227, 22],\n",
       "       [186, 50], 'InDef', [13, 1], 'InDef', [11, 16], 'InDef', [7, 23],\n",
       "       [15, 6], [14, 28], [4, 20], 'InDef', [8, 19], [23, 2], [10, 21],\n",
       "       [185, 55], [7, 49], [57, 17], 'InDef', 'InDef', [9, 48], [2, 20],\n",
       "       'InDef', [125, 46], [8, 48], [10, 22], [9, 19], [5, 3], 'InDef',\n",
       "       'InDef', [3, 47], 'InDef', [6, 43], 'InDef', [0, 49], [6, 40],\n",
       "       [86, 15], [13, 46], [12, 19], 'InDef', [5, 26], 'InDef', 'InDef',\n",
       "       [223, 2], [199, 15], 'InDef', [86, 3], [5, 4], [6, 33], [4, 43],\n",
       "       'InDef', [17, 40], [0, 30], [7, 30], [46, 9], [7, 23], [7, 18],\n",
       "       'InDef', 'InDef', [5, 27], 'InDef', [14, 2], 'InDef', [111, 12],\n",
       "       [22, 3], [5, 27], [5, 56], [44, 57], [11, 39], [6, 49], [3, 58],\n",
       "       [8, 38], 'InDef', [8, 36], [71, 53], [94, 49], [5, 44], 'InDef',\n",
       "       [4, 32], [5, 20], [6, 34], 'InDef', [71, 11], [138, 17], [14, 32],\n",
       "       'InDef', [18, 12], 'InDef', [7, 40], [20, 8], [10, 53], 'InDef',\n",
       "       [11, 31], 'InDef', 'InDef', [12, 39], [17, 46], [66, 7], [6, 8],\n",
       "       [21, 48], 'InDef', [9, 35], [7, 14], 'InDef', [7, 19], [30, 54],\n",
       "       [186, 8], [8, 50], [9, 42], [21, 54], [53, 41], [92, 41], [8, 49],\n",
       "       [5, 58], 'InDef', [24, 12], [8, 10], [23, 42], [8, 21], 'InDef',\n",
       "       'InDef', [9, 15], [13, 46], [9, 41], [227, 35], 'InDef', 'InDef',\n",
       "       [22, 1], [45, 20], 'InDef', [26, 0], [178, 54], [120, 5], [103, 9],\n",
       "       [7, 20], [7, 57], [10, 17], [3, 53], 'InDef', [7, 20], 'InDef',\n",
       "       'InDef', [10, 43]], dtype=object)"
      ]
     },
     "execution_count": 51,
     "metadata": {},
     "output_type": "execute_result"
    }
   ],
   "source": [
    "test_w.Response.values"
   ]
  },
  {
   "cell_type": "code",
   "execution_count": 52,
   "metadata": {
    "collapsed": true
   },
   "outputs": [],
   "source": [
    "def TimeCount(Table,mytime):       #month/day/year hour:minute:second 24h\n",
    "    temp=datetime.strptime(mytime,'%m/%d/%Y %H:%M:%S')\n",
    "    myday=temp.weekday()\n",
    "    myhour=temp.hour\n",
    "    \n",
    "    crimecount=0\n",
    "    responsetime=0\n",
    "    responsecount=0\n",
    "    myresponsetime=0\n",
    "    myresponsecount=0\n",
    "    for i in range(len(Table.TimeCreate.values)):\n",
    "        Response=Table.Response.values[i]\n",
    "        if Response!='InDef':\n",
    "            responsetime+=Response[0]+Response[1]*1.0/60\n",
    "            responsecount+=1\n",
    "        sth=Table.TimeCreate.values[i]\n",
    "        time=datetime.utcfromtimestamp(sth.tolist()/1e9)\n",
    "        W=time.weekday()       #weekday\n",
    "        H=time.hour            #hour\n",
    "        if W==myday and H==myhour:\n",
    "            crimecount+=1\n",
    "            if Response!='InDef':\n",
    "                myresponsetime+=Response[0]+Response[1]*1.0/60\n",
    "                myresponsecount+=1\n",
    "            \n",
    "    return (crimecount*1.0/5/52,(crimecount*1.0/len(Table))/(1.0/24/7)-1,\n",
    "            responsetime*1.0/responsecount,myresponsetime*1.0/myresponsecount)\n",
    "           #average crime that hour within certain radius\n",
    "           #how the probabilty is compared with the average probability\n",
    "           #average response time for that type of problem in the area\n",
    "           #average response time when you ask for police help at the time in that area\n",
    "        "
   ]
  },
  {
   "cell_type": "code",
   "execution_count": 53,
   "metadata": {},
   "outputs": [
    {
     "data": {
      "text/plain": [
       "(0.0038461538461538464, -0.5213675213675213, 51.12753623188409, 10.0)"
      ]
     },
     "execution_count": 53,
     "metadata": {},
     "output_type": "execute_result"
    }
   ],
   "source": [
    "TimeCount(test_w,'01/23/2018 11:30:00')"
   ]
  },
  {
   "cell_type": "code",
   "execution_count": 54,
   "metadata": {},
   "outputs": [
    {
     "data": {
      "text/plain": [
       "0.005952380952380952"
      ]
     },
     "execution_count": 54,
     "metadata": {},
     "output_type": "execute_result"
    }
   ],
   "source": [
    "1.0/24/7"
   ]
  },
  {
   "cell_type": "code",
   "execution_count": null,
   "metadata": {
    "collapsed": true
   },
   "outputs": [],
   "source": []
  },
  {
   "cell_type": "code",
   "execution_count": 55,
   "metadata": {
    "collapsed": true
   },
   "outputs": [],
   "source": [
    "def prediction(Location, Time, Radius, Type):      #Type 1: Walking, Type 2: Housing, Type 3: Driving\n",
    "    #month/day/year hour:minute:second 24h     #time format\n",
    "    #Radius in miles\n",
    "    #roughly around 300 ft a block--0.05 miles\n",
    "    Table=TableFilter(Location, Radius)\n",
    "    if Type==1:\n",
    "        temp=Walking(Table)\n",
    "    if Type==2:\n",
    "        temp=Housing(Table)\n",
    "    if Type==3:\n",
    "        temp=Driving(Table)\n",
    "    (a,b,c,d)=TimeCount(temp, Time)\n",
    "    \n",
    "    return (a,b,c,d)"
   ]
  },
  {
   "cell_type": "code",
   "execution_count": 56,
   "metadata": {},
   "outputs": [
    {
     "data": {
      "text/plain": [
       "(0.057692307692307696,\n",
       " -0.25575900767867676,\n",
       " 33.54121127199139,\n",
       " 21.178333333333335)"
      ]
     },
     "execution_count": 56,
     "metadata": {},
     "output_type": "execute_result"
    }
   ],
   "source": [
    "prediction('6400 Freret St, New Orleans','1/24/2018 11:30:00', 0.5, 2)"
   ]
  },
  {
   "cell_type": "code",
   "execution_count": 57,
   "metadata": {
    "collapsed": true
   },
   "outputs": [],
   "source": [
    "def RegionDis(Location, Radius, Type):\n",
    "    Table=TableFilter(Location, Radius)\n",
    "    if Type==1:\n",
    "        temp=Walking(Table)\n",
    "    if Type==2:\n",
    "        temp=Housing(Table)\n",
    "    if Type==3:\n",
    "        temp=Driving(Table)\n",
    "    \n",
    "    Dis=[]         #Day 0,1,2,..6,   0 is Monday\n",
    "                   #Hour 0,1,2,...23\n",
    "    for day in range(7):\n",
    "        for hour in range(24):\n",
    "            crimecount=0\n",
    "            responsetime=0\n",
    "            responsecount=0\n",
    "            myresponsetime=0\n",
    "            myresponsecount=0\n",
    "            for i in range(len(temp.TimeCreate.values)):\n",
    "                Response=temp.Response.values[i]\n",
    "                if Response!='InDef':\n",
    "                    responsetime+=Response[0]+Response[1]*1.0/60\n",
    "                    responsecount+=1\n",
    "                    sth=temp.TimeCreate.values[i]\n",
    "                    time=datetime.utcfromtimestamp(sth.tolist()/1e9)\n",
    "                    W=time.weekday()       #weekday\n",
    "                    H=time.hour            #hour\n",
    "                    if W==day and H==hour:\n",
    "                        crimecount+=1\n",
    "                        if Response!='InDef':\n",
    "                            myresponsetime+=Response[0]+Response[1]*1.0/60\n",
    "                            myresponsecount+=1\n",
    "            try:\n",
    "                Dis.append((crimecount*1.0/5/52,(crimecount*1.0/len(temp))/(1.0/24/7)-1,\n",
    "                            responsetime*1.0/responsecount,myresponsetime*1.0/myresponsecount))\n",
    "            except:\n",
    "                Dis.append((crimecount*1.0/5/52,0,\n",
    "                            0,0))\n",
    "                \n",
    "            #last three zeroes mean nothing happening in that hour of the day\n",
    "    return Dis"
   ]
  },
  {
   "cell_type": "code",
   "execution_count": 58,
   "metadata": {
    "collapsed": true
   },
   "outputs": [],
   "source": [
    "DataToPlot=RegionDis('6400 Freret St, New Orleans',0.5,1)"
   ]
  },
  {
   "cell_type": "code",
   "execution_count": 59,
   "metadata": {
    "collapsed": true
   },
   "outputs": [],
   "source": [
    "#DataToPlot"
   ]
  },
  {
   "cell_type": "code",
   "execution_count": 60,
   "metadata": {
    "collapsed": true
   },
   "outputs": [],
   "source": [
    "DataPanda=pd.DataFrame(DataToPlot)\n",
    "DataPanda.columns = ['Average crime per hour', 'Crime Probability compared to the average level','Average response time of day',\n",
    "                     'Average response time']"
   ]
  },
  {
   "cell_type": "code",
   "execution_count": 61,
   "metadata": {},
   "outputs": [
    {
     "data": {
      "text/html": [
       "<div>\n",
       "<style>\n",
       "    .dataframe thead tr:only-child th {\n",
       "        text-align: right;\n",
       "    }\n",
       "\n",
       "    .dataframe thead th {\n",
       "        text-align: left;\n",
       "    }\n",
       "\n",
       "    .dataframe tbody tr th {\n",
       "        vertical-align: top;\n",
       "    }\n",
       "</style>\n",
       "<table border=\"1\" class=\"dataframe\">\n",
       "  <thead>\n",
       "    <tr style=\"text-align: right;\">\n",
       "      <th></th>\n",
       "      <th>Average crime per hour</th>\n",
       "      <th>Crime Probability compared to the average level</th>\n",
       "      <th>Average response time of day</th>\n",
       "      <th>Average response time</th>\n",
       "    </tr>\n",
       "  </thead>\n",
       "  <tbody>\n",
       "    <tr>\n",
       "      <th>0</th>\n",
       "      <td>0.003846</td>\n",
       "      <td>-0.222222</td>\n",
       "      <td>43.369521</td>\n",
       "      <td>4.500000</td>\n",
       "    </tr>\n",
       "    <tr>\n",
       "      <th>1</th>\n",
       "      <td>0.000000</td>\n",
       "      <td>0.000000</td>\n",
       "      <td>0.000000</td>\n",
       "      <td>0.000000</td>\n",
       "    </tr>\n",
       "    <tr>\n",
       "      <th>2</th>\n",
       "      <td>0.000000</td>\n",
       "      <td>0.000000</td>\n",
       "      <td>0.000000</td>\n",
       "      <td>0.000000</td>\n",
       "    </tr>\n",
       "    <tr>\n",
       "      <th>3</th>\n",
       "      <td>0.003846</td>\n",
       "      <td>-0.222222</td>\n",
       "      <td>43.369521</td>\n",
       "      <td>35.416667</td>\n",
       "    </tr>\n",
       "    <tr>\n",
       "      <th>4</th>\n",
       "      <td>0.007692</td>\n",
       "      <td>0.555556</td>\n",
       "      <td>43.369521</td>\n",
       "      <td>8.075000</td>\n",
       "    </tr>\n",
       "    <tr>\n",
       "      <th>5</th>\n",
       "      <td>0.000000</td>\n",
       "      <td>0.000000</td>\n",
       "      <td>0.000000</td>\n",
       "      <td>0.000000</td>\n",
       "    </tr>\n",
       "    <tr>\n",
       "      <th>6</th>\n",
       "      <td>0.000000</td>\n",
       "      <td>0.000000</td>\n",
       "      <td>0.000000</td>\n",
       "      <td>0.000000</td>\n",
       "    </tr>\n",
       "    <tr>\n",
       "      <th>7</th>\n",
       "      <td>0.000000</td>\n",
       "      <td>0.000000</td>\n",
       "      <td>0.000000</td>\n",
       "      <td>0.000000</td>\n",
       "    </tr>\n",
       "    <tr>\n",
       "      <th>8</th>\n",
       "      <td>0.000000</td>\n",
       "      <td>0.000000</td>\n",
       "      <td>0.000000</td>\n",
       "      <td>0.000000</td>\n",
       "    </tr>\n",
       "    <tr>\n",
       "      <th>9</th>\n",
       "      <td>0.000000</td>\n",
       "      <td>0.000000</td>\n",
       "      <td>0.000000</td>\n",
       "      <td>0.000000</td>\n",
       "    </tr>\n",
       "    <tr>\n",
       "      <th>10</th>\n",
       "      <td>0.000000</td>\n",
       "      <td>0.000000</td>\n",
       "      <td>0.000000</td>\n",
       "      <td>0.000000</td>\n",
       "    </tr>\n",
       "    <tr>\n",
       "      <th>11</th>\n",
       "      <td>0.000000</td>\n",
       "      <td>0.000000</td>\n",
       "      <td>0.000000</td>\n",
       "      <td>0.000000</td>\n",
       "    </tr>\n",
       "    <tr>\n",
       "      <th>12</th>\n",
       "      <td>0.000000</td>\n",
       "      <td>0.000000</td>\n",
       "      <td>0.000000</td>\n",
       "      <td>0.000000</td>\n",
       "    </tr>\n",
       "    <tr>\n",
       "      <th>13</th>\n",
       "      <td>0.003846</td>\n",
       "      <td>-0.222222</td>\n",
       "      <td>43.369521</td>\n",
       "      <td>13.683333</td>\n",
       "    </tr>\n",
       "    <tr>\n",
       "      <th>14</th>\n",
       "      <td>0.007692</td>\n",
       "      <td>0.555556</td>\n",
       "      <td>43.369521</td>\n",
       "      <td>5.316667</td>\n",
       "    </tr>\n",
       "    <tr>\n",
       "      <th>15</th>\n",
       "      <td>0.003846</td>\n",
       "      <td>-0.222222</td>\n",
       "      <td>43.369521</td>\n",
       "      <td>0.116667</td>\n",
       "    </tr>\n",
       "    <tr>\n",
       "      <th>16</th>\n",
       "      <td>0.000000</td>\n",
       "      <td>0.000000</td>\n",
       "      <td>0.000000</td>\n",
       "      <td>0.000000</td>\n",
       "    </tr>\n",
       "    <tr>\n",
       "      <th>17</th>\n",
       "      <td>0.000000</td>\n",
       "      <td>0.000000</td>\n",
       "      <td>0.000000</td>\n",
       "      <td>0.000000</td>\n",
       "    </tr>\n",
       "    <tr>\n",
       "      <th>18</th>\n",
       "      <td>0.000000</td>\n",
       "      <td>0.000000</td>\n",
       "      <td>0.000000</td>\n",
       "      <td>0.000000</td>\n",
       "    </tr>\n",
       "    <tr>\n",
       "      <th>19</th>\n",
       "      <td>0.000000</td>\n",
       "      <td>0.000000</td>\n",
       "      <td>0.000000</td>\n",
       "      <td>0.000000</td>\n",
       "    </tr>\n",
       "    <tr>\n",
       "      <th>20</th>\n",
       "      <td>0.003846</td>\n",
       "      <td>-0.222222</td>\n",
       "      <td>43.369521</td>\n",
       "      <td>5.650000</td>\n",
       "    </tr>\n",
       "    <tr>\n",
       "      <th>21</th>\n",
       "      <td>0.000000</td>\n",
       "      <td>0.000000</td>\n",
       "      <td>0.000000</td>\n",
       "      <td>0.000000</td>\n",
       "    </tr>\n",
       "    <tr>\n",
       "      <th>22</th>\n",
       "      <td>0.003846</td>\n",
       "      <td>-0.222222</td>\n",
       "      <td>43.369521</td>\n",
       "      <td>10.400000</td>\n",
       "    </tr>\n",
       "    <tr>\n",
       "      <th>23</th>\n",
       "      <td>0.000000</td>\n",
       "      <td>0.000000</td>\n",
       "      <td>0.000000</td>\n",
       "      <td>0.000000</td>\n",
       "    </tr>\n",
       "    <tr>\n",
       "      <th>24</th>\n",
       "      <td>0.000000</td>\n",
       "      <td>0.000000</td>\n",
       "      <td>0.000000</td>\n",
       "      <td>0.000000</td>\n",
       "    </tr>\n",
       "    <tr>\n",
       "      <th>25</th>\n",
       "      <td>0.003846</td>\n",
       "      <td>-0.222222</td>\n",
       "      <td>43.369521</td>\n",
       "      <td>7.316667</td>\n",
       "    </tr>\n",
       "    <tr>\n",
       "      <th>26</th>\n",
       "      <td>0.003846</td>\n",
       "      <td>-0.222222</td>\n",
       "      <td>43.369521</td>\n",
       "      <td>6.850000</td>\n",
       "    </tr>\n",
       "    <tr>\n",
       "      <th>27</th>\n",
       "      <td>0.000000</td>\n",
       "      <td>0.000000</td>\n",
       "      <td>0.000000</td>\n",
       "      <td>0.000000</td>\n",
       "    </tr>\n",
       "    <tr>\n",
       "      <th>28</th>\n",
       "      <td>0.000000</td>\n",
       "      <td>0.000000</td>\n",
       "      <td>0.000000</td>\n",
       "      <td>0.000000</td>\n",
       "    </tr>\n",
       "    <tr>\n",
       "      <th>29</th>\n",
       "      <td>0.000000</td>\n",
       "      <td>0.000000</td>\n",
       "      <td>0.000000</td>\n",
       "      <td>0.000000</td>\n",
       "    </tr>\n",
       "    <tr>\n",
       "      <th>...</th>\n",
       "      <td>...</td>\n",
       "      <td>...</td>\n",
       "      <td>...</td>\n",
       "      <td>...</td>\n",
       "    </tr>\n",
       "    <tr>\n",
       "      <th>138</th>\n",
       "      <td>0.007692</td>\n",
       "      <td>0.555556</td>\n",
       "      <td>43.369521</td>\n",
       "      <td>22.175000</td>\n",
       "    </tr>\n",
       "    <tr>\n",
       "      <th>139</th>\n",
       "      <td>0.000000</td>\n",
       "      <td>0.000000</td>\n",
       "      <td>0.000000</td>\n",
       "      <td>0.000000</td>\n",
       "    </tr>\n",
       "    <tr>\n",
       "      <th>140</th>\n",
       "      <td>0.000000</td>\n",
       "      <td>0.000000</td>\n",
       "      <td>0.000000</td>\n",
       "      <td>0.000000</td>\n",
       "    </tr>\n",
       "    <tr>\n",
       "      <th>141</th>\n",
       "      <td>0.003846</td>\n",
       "      <td>-0.222222</td>\n",
       "      <td>43.369521</td>\n",
       "      <td>4.333333</td>\n",
       "    </tr>\n",
       "    <tr>\n",
       "      <th>142</th>\n",
       "      <td>0.011538</td>\n",
       "      <td>1.333333</td>\n",
       "      <td>43.369521</td>\n",
       "      <td>14.922222</td>\n",
       "    </tr>\n",
       "    <tr>\n",
       "      <th>143</th>\n",
       "      <td>0.000000</td>\n",
       "      <td>0.000000</td>\n",
       "      <td>0.000000</td>\n",
       "      <td>0.000000</td>\n",
       "    </tr>\n",
       "    <tr>\n",
       "      <th>144</th>\n",
       "      <td>0.003846</td>\n",
       "      <td>-0.222222</td>\n",
       "      <td>43.369521</td>\n",
       "      <td>6.133333</td>\n",
       "    </tr>\n",
       "    <tr>\n",
       "      <th>145</th>\n",
       "      <td>0.023077</td>\n",
       "      <td>3.666667</td>\n",
       "      <td>43.369521</td>\n",
       "      <td>67.355556</td>\n",
       "    </tr>\n",
       "    <tr>\n",
       "      <th>146</th>\n",
       "      <td>0.019231</td>\n",
       "      <td>2.888889</td>\n",
       "      <td>43.369521</td>\n",
       "      <td>27.563333</td>\n",
       "    </tr>\n",
       "    <tr>\n",
       "      <th>147</th>\n",
       "      <td>0.003846</td>\n",
       "      <td>-0.222222</td>\n",
       "      <td>43.369521</td>\n",
       "      <td>21.900000</td>\n",
       "    </tr>\n",
       "    <tr>\n",
       "      <th>148</th>\n",
       "      <td>0.011538</td>\n",
       "      <td>1.333333</td>\n",
       "      <td>43.369521</td>\n",
       "      <td>29.061111</td>\n",
       "    </tr>\n",
       "    <tr>\n",
       "      <th>149</th>\n",
       "      <td>0.003846</td>\n",
       "      <td>-0.222222</td>\n",
       "      <td>43.369521</td>\n",
       "      <td>7.366667</td>\n",
       "    </tr>\n",
       "    <tr>\n",
       "      <th>150</th>\n",
       "      <td>0.003846</td>\n",
       "      <td>-0.222222</td>\n",
       "      <td>43.369521</td>\n",
       "      <td>6.316667</td>\n",
       "    </tr>\n",
       "    <tr>\n",
       "      <th>151</th>\n",
       "      <td>0.000000</td>\n",
       "      <td>0.000000</td>\n",
       "      <td>0.000000</td>\n",
       "      <td>0.000000</td>\n",
       "    </tr>\n",
       "    <tr>\n",
       "      <th>152</th>\n",
       "      <td>0.003846</td>\n",
       "      <td>-0.222222</td>\n",
       "      <td>43.369521</td>\n",
       "      <td>9.983333</td>\n",
       "    </tr>\n",
       "    <tr>\n",
       "      <th>153</th>\n",
       "      <td>0.003846</td>\n",
       "      <td>-0.222222</td>\n",
       "      <td>43.369521</td>\n",
       "      <td>5.183333</td>\n",
       "    </tr>\n",
       "    <tr>\n",
       "      <th>154</th>\n",
       "      <td>0.000000</td>\n",
       "      <td>0.000000</td>\n",
       "      <td>0.000000</td>\n",
       "      <td>0.000000</td>\n",
       "    </tr>\n",
       "    <tr>\n",
       "      <th>155</th>\n",
       "      <td>0.000000</td>\n",
       "      <td>0.000000</td>\n",
       "      <td>0.000000</td>\n",
       "      <td>0.000000</td>\n",
       "    </tr>\n",
       "    <tr>\n",
       "      <th>156</th>\n",
       "      <td>0.003846</td>\n",
       "      <td>-0.222222</td>\n",
       "      <td>43.369521</td>\n",
       "      <td>178.900000</td>\n",
       "    </tr>\n",
       "    <tr>\n",
       "      <th>157</th>\n",
       "      <td>0.003846</td>\n",
       "      <td>-0.222222</td>\n",
       "      <td>43.369521</td>\n",
       "      <td>133.816667</td>\n",
       "    </tr>\n",
       "    <tr>\n",
       "      <th>158</th>\n",
       "      <td>0.000000</td>\n",
       "      <td>0.000000</td>\n",
       "      <td>0.000000</td>\n",
       "      <td>0.000000</td>\n",
       "    </tr>\n",
       "    <tr>\n",
       "      <th>159</th>\n",
       "      <td>0.007692</td>\n",
       "      <td>0.555556</td>\n",
       "      <td>43.369521</td>\n",
       "      <td>7.266667</td>\n",
       "    </tr>\n",
       "    <tr>\n",
       "      <th>160</th>\n",
       "      <td>0.003846</td>\n",
       "      <td>-0.222222</td>\n",
       "      <td>43.369521</td>\n",
       "      <td>10.366667</td>\n",
       "    </tr>\n",
       "    <tr>\n",
       "      <th>161</th>\n",
       "      <td>0.000000</td>\n",
       "      <td>0.000000</td>\n",
       "      <td>0.000000</td>\n",
       "      <td>0.000000</td>\n",
       "    </tr>\n",
       "    <tr>\n",
       "      <th>162</th>\n",
       "      <td>0.003846</td>\n",
       "      <td>-0.222222</td>\n",
       "      <td>43.369521</td>\n",
       "      <td>13.083333</td>\n",
       "    </tr>\n",
       "    <tr>\n",
       "      <th>163</th>\n",
       "      <td>0.003846</td>\n",
       "      <td>-0.222222</td>\n",
       "      <td>43.369521</td>\n",
       "      <td>12.183333</td>\n",
       "    </tr>\n",
       "    <tr>\n",
       "      <th>164</th>\n",
       "      <td>0.000000</td>\n",
       "      <td>0.000000</td>\n",
       "      <td>0.000000</td>\n",
       "      <td>0.000000</td>\n",
       "    </tr>\n",
       "    <tr>\n",
       "      <th>165</th>\n",
       "      <td>0.000000</td>\n",
       "      <td>0.000000</td>\n",
       "      <td>0.000000</td>\n",
       "      <td>0.000000</td>\n",
       "    </tr>\n",
       "    <tr>\n",
       "      <th>166</th>\n",
       "      <td>0.003846</td>\n",
       "      <td>-0.222222</td>\n",
       "      <td>43.369521</td>\n",
       "      <td>126.216667</td>\n",
       "    </tr>\n",
       "    <tr>\n",
       "      <th>167</th>\n",
       "      <td>0.000000</td>\n",
       "      <td>0.000000</td>\n",
       "      <td>0.000000</td>\n",
       "      <td>0.000000</td>\n",
       "    </tr>\n",
       "  </tbody>\n",
       "</table>\n",
       "<p>168 rows × 4 columns</p>\n",
       "</div>"
      ],
      "text/plain": [
       "     Average crime per hour  Crime Probability compared to the average level  \\\n",
       "0                  0.003846                                        -0.222222   \n",
       "1                  0.000000                                         0.000000   \n",
       "2                  0.000000                                         0.000000   \n",
       "3                  0.003846                                        -0.222222   \n",
       "4                  0.007692                                         0.555556   \n",
       "5                  0.000000                                         0.000000   \n",
       "6                  0.000000                                         0.000000   \n",
       "7                  0.000000                                         0.000000   \n",
       "8                  0.000000                                         0.000000   \n",
       "9                  0.000000                                         0.000000   \n",
       "10                 0.000000                                         0.000000   \n",
       "11                 0.000000                                         0.000000   \n",
       "12                 0.000000                                         0.000000   \n",
       "13                 0.003846                                        -0.222222   \n",
       "14                 0.007692                                         0.555556   \n",
       "15                 0.003846                                        -0.222222   \n",
       "16                 0.000000                                         0.000000   \n",
       "17                 0.000000                                         0.000000   \n",
       "18                 0.000000                                         0.000000   \n",
       "19                 0.000000                                         0.000000   \n",
       "20                 0.003846                                        -0.222222   \n",
       "21                 0.000000                                         0.000000   \n",
       "22                 0.003846                                        -0.222222   \n",
       "23                 0.000000                                         0.000000   \n",
       "24                 0.000000                                         0.000000   \n",
       "25                 0.003846                                        -0.222222   \n",
       "26                 0.003846                                        -0.222222   \n",
       "27                 0.000000                                         0.000000   \n",
       "28                 0.000000                                         0.000000   \n",
       "29                 0.000000                                         0.000000   \n",
       "..                      ...                                              ...   \n",
       "138                0.007692                                         0.555556   \n",
       "139                0.000000                                         0.000000   \n",
       "140                0.000000                                         0.000000   \n",
       "141                0.003846                                        -0.222222   \n",
       "142                0.011538                                         1.333333   \n",
       "143                0.000000                                         0.000000   \n",
       "144                0.003846                                        -0.222222   \n",
       "145                0.023077                                         3.666667   \n",
       "146                0.019231                                         2.888889   \n",
       "147                0.003846                                        -0.222222   \n",
       "148                0.011538                                         1.333333   \n",
       "149                0.003846                                        -0.222222   \n",
       "150                0.003846                                        -0.222222   \n",
       "151                0.000000                                         0.000000   \n",
       "152                0.003846                                        -0.222222   \n",
       "153                0.003846                                        -0.222222   \n",
       "154                0.000000                                         0.000000   \n",
       "155                0.000000                                         0.000000   \n",
       "156                0.003846                                        -0.222222   \n",
       "157                0.003846                                        -0.222222   \n",
       "158                0.000000                                         0.000000   \n",
       "159                0.007692                                         0.555556   \n",
       "160                0.003846                                        -0.222222   \n",
       "161                0.000000                                         0.000000   \n",
       "162                0.003846                                        -0.222222   \n",
       "163                0.003846                                        -0.222222   \n",
       "164                0.000000                                         0.000000   \n",
       "165                0.000000                                         0.000000   \n",
       "166                0.003846                                        -0.222222   \n",
       "167                0.000000                                         0.000000   \n",
       "\n",
       "     Average response time of day  Average response time  \n",
       "0                       43.369521               4.500000  \n",
       "1                        0.000000               0.000000  \n",
       "2                        0.000000               0.000000  \n",
       "3                       43.369521              35.416667  \n",
       "4                       43.369521               8.075000  \n",
       "5                        0.000000               0.000000  \n",
       "6                        0.000000               0.000000  \n",
       "7                        0.000000               0.000000  \n",
       "8                        0.000000               0.000000  \n",
       "9                        0.000000               0.000000  \n",
       "10                       0.000000               0.000000  \n",
       "11                       0.000000               0.000000  \n",
       "12                       0.000000               0.000000  \n",
       "13                      43.369521              13.683333  \n",
       "14                      43.369521               5.316667  \n",
       "15                      43.369521               0.116667  \n",
       "16                       0.000000               0.000000  \n",
       "17                       0.000000               0.000000  \n",
       "18                       0.000000               0.000000  \n",
       "19                       0.000000               0.000000  \n",
       "20                      43.369521               5.650000  \n",
       "21                       0.000000               0.000000  \n",
       "22                      43.369521              10.400000  \n",
       "23                       0.000000               0.000000  \n",
       "24                       0.000000               0.000000  \n",
       "25                      43.369521               7.316667  \n",
       "26                      43.369521               6.850000  \n",
       "27                       0.000000               0.000000  \n",
       "28                       0.000000               0.000000  \n",
       "29                       0.000000               0.000000  \n",
       "..                            ...                    ...  \n",
       "138                     43.369521              22.175000  \n",
       "139                      0.000000               0.000000  \n",
       "140                      0.000000               0.000000  \n",
       "141                     43.369521               4.333333  \n",
       "142                     43.369521              14.922222  \n",
       "143                      0.000000               0.000000  \n",
       "144                     43.369521               6.133333  \n",
       "145                     43.369521              67.355556  \n",
       "146                     43.369521              27.563333  \n",
       "147                     43.369521              21.900000  \n",
       "148                     43.369521              29.061111  \n",
       "149                     43.369521               7.366667  \n",
       "150                     43.369521               6.316667  \n",
       "151                      0.000000               0.000000  \n",
       "152                     43.369521               9.983333  \n",
       "153                     43.369521               5.183333  \n",
       "154                      0.000000               0.000000  \n",
       "155                      0.000000               0.000000  \n",
       "156                     43.369521             178.900000  \n",
       "157                     43.369521             133.816667  \n",
       "158                      0.000000               0.000000  \n",
       "159                     43.369521               7.266667  \n",
       "160                     43.369521              10.366667  \n",
       "161                      0.000000               0.000000  \n",
       "162                     43.369521              13.083333  \n",
       "163                     43.369521              12.183333  \n",
       "164                      0.000000               0.000000  \n",
       "165                      0.000000               0.000000  \n",
       "166                     43.369521             126.216667  \n",
       "167                      0.000000               0.000000  \n",
       "\n",
       "[168 rows x 4 columns]"
      ]
     },
     "execution_count": 61,
     "metadata": {},
     "output_type": "execute_result"
    }
   ],
   "source": [
    "DataPanda"
   ]
  },
  {
   "cell_type": "code",
   "execution_count": 62,
   "metadata": {
    "collapsed": true
   },
   "outputs": [],
   "source": [
    "Days=['Mon','Tue','Wed','Thur','Fri','Sat','Sun']\n",
    "tuplex=()\n",
    "for i in range(168):\n",
    "    if i%24==0:\n",
    "        tuplex = tuplex + (Days[i/24],)\n",
    "    else:\n",
    "        tuplex = tuplex + ('',)"
   ]
  },
  {
   "cell_type": "code",
   "execution_count": 63,
   "metadata": {
    "collapsed": true
   },
   "outputs": [],
   "source": [
    "#tuplex"
   ]
  },
  {
   "cell_type": "code",
   "execution_count": 64,
   "metadata": {
    "collapsed": true
   },
   "outputs": [],
   "source": [
    "result1 = np.array(DataPanda['Average crime per hour'], dtype=np.double)\n",
    "result1[ result1==0 ] = np.nan"
   ]
  },
  {
   "cell_type": "code",
   "execution_count": 65,
   "metadata": {},
   "outputs": [
    {
     "data": {
      "image/png": "[encoded data removed]",
      "text/plain": [
       "<matplotlib.figure.Figure at 0x7f583e5b8810>"
      ]
     },
     "metadata": {},
     "output_type": "display_data"
    }
   ],
   "source": [
    "y_pos = np.arange(len(tuplex))\n",
    "plt.bar(y_pos, result1, align='center', alpha=1)\n",
    "plt.xticks(y_pos, tuplex)\n",
    "plt.ylabel('Average crime per hour')\n",
    "plt.xlabel('Time')\n",
    "plt.tick_params(axis=u'x', which=u'both',length=0)\n",
    "plt.show()"
   ]
  },
  {
   "cell_type": "code",
   "execution_count": 66,
   "metadata": {
    "collapsed": true
   },
   "outputs": [],
   "source": [
    "result2 = np.array(DataPanda['Average response time'], dtype=np.double)\n",
    "result2[ result2==0 ] = np.nan"
   ]
  },
  {
   "cell_type": "code",
   "execution_count": 67,
   "metadata": {},
   "outputs": [
    {
     "data": {
      "image/png": "[encoded data removed]",
      "text/plain": [
       "<matplotlib.figure.Figure at 0x7f583e5b8610>"
      ]
     },
     "metadata": {},
     "output_type": "display_data"
    }
   ],
   "source": [
    "plt.plot(y_pos, result2,'ro')\n",
    "plt.xticks(y_pos, tuplex)\n",
    "plt.ylabel('Average response time in that hour')\n",
    "plt.xlabel('Time')\n",
    "plt.tick_params(axis=u'x', which=u'both',length=0)\n",
    "plt.show()"
   ]
  },
  {
   "cell_type": "code",
   "execution_count": 68,
   "metadata": {},
   "outputs": [
    {
     "data": {
      "image/png": "[encoded data removed]",
      "text/plain": [
       "<matplotlib.figure.Figure at 0x7f58392f3750>"
      ]
     },
     "metadata": {},
     "output_type": "display_data"
    }
   ],
   "source": [
    "fig=plt.figure()\n",
    "One=fig.add_subplot(111, label=\"1\")\n",
    "Two=fig.add_subplot(111, label=\"2\", frame_on=False)\n",
    "y_pos = np.arange(len(tuplex))\n",
    "\n",
    "\n",
    "One.bar(y_pos, result1, align='center', alpha=1)\n",
    "One.set_xlabel('Time')\n",
    "One.set_ylabel('Average crime per hour')\n",
    "One.set_xticks(y_pos)\n",
    "One.set_xticklabels(tuplex)\n",
    "One.tick_params(axis=u'x', which=u'both',length=0)\n",
    "One.xaxis.tick_bottom()\n",
    "One.yaxis.tick_left()\n",
    "\n",
    "Two.plot(y_pos, result2, 'ro')\n",
    "#One.set_xlabel('Time')\n",
    "Two.set_ylabel('Average response time in that hour')\n",
    "Two.tick_params(axis=u'x', which=u'both',length=0)\n",
    "Two.set_xticks(y_pos)\n",
    "Two.set_xticklabels([])\n",
    "Two.xaxis.tick_bottom()\n",
    "Two.yaxis.tick_right()\n",
    "\n",
    "One.yaxis.set_label_position('left')\n",
    "Two.yaxis.set_label_position('right')\n",
    "\n",
    "plt.show()"
   ]
  },
  {
   "cell_type": "code",
   "execution_count": 69,
   "metadata": {
    "collapsed": true
   },
   "outputs": [],
   "source": [
    "fig.savefig('6400FreretSt_05miles_T1.png')"
   ]
  },
  {
   "cell_type": "code",
   "execution_count": 70,
   "metadata": {
    "collapsed": true
   },
   "outputs": [],
   "source": [
    "    address2='730 Bourbon St, New Orleans'"
   ]
  },
  {
   "cell_type": "code",
   "execution_count": 71,
   "metadata": {
    "collapsed": true
   },
   "outputs": [],
   "source": [
    "def plotdata(Location, Radius, Type):\n",
    "    DataToPlot=RegionDis(Location,Radius,Type)\n",
    "    DataPanda=pd.DataFrame(DataToPlot)\n",
    "    DataPanda.columns = ['Average crime per hour', 'Crime Probability compared to the average level','Average response time of day',\n",
    "                     'Average response time']\n",
    "    result1 = np.array(DataPanda['Average crime per hour'], dtype=np.double)\n",
    "    result1[ result1==0 ] = np.nan\n",
    "    result2 = np.array(DataPanda['Average response time'], dtype=np.double)\n",
    "    result2[ result2==0 ] = np.nan\n",
    "    \n",
    "    fig=plt.figure()\n",
    "    One=fig.add_subplot(111, label=\"1\")\n",
    "    Two=fig.add_subplot(111, label=\"2\", frame_on=False)\n",
    "    y_pos = np.arange(len(tuplex))\n",
    "\n",
    "    One.bar(y_pos, result1, align='center', alpha=1)\n",
    "    One.set_xlabel('Time')\n",
    "    One.set_ylabel('Average crime per hour')\n",
    "    One.set_xticks(y_pos)\n",
    "    One.set_xticklabels(tuplex)\n",
    "    One.tick_params(axis=u'x', which=u'both',length=0)\n",
    "    One.xaxis.tick_bottom()\n",
    "    One.yaxis.tick_left()\n",
    "\n",
    "    Two.plot(y_pos, result2, 'ro')\n",
    "    #One.set_xlabel('Time')\n",
    "    Two.set_ylabel('Average response time in that hour')\n",
    "    Two.tick_params(axis=u'x', which=u'both',length=0)\n",
    "    Two.set_xticks(y_pos)\n",
    "    Two.set_xticklabels([])\n",
    "    Two.xaxis.tick_bottom()\n",
    "    Two.yaxis.tick_right()\n",
    "\n",
    "    One.yaxis.set_label_position('left')\n",
    "    Two.yaxis.set_label_position('right')\n",
    "    \n",
    "    r=str(Radius).replace(\".\",\"\")\n",
    "\n",
    "    filename=Location+'_'+r+'_T'+str(Type)+'.png'\n",
    "    fig.savefig(filename)\n",
    "    \n",
    "    return None"
   ]
  },
  {
   "cell_type": "code",
   "execution_count": 72,
   "metadata": {
    "collapsed": true
   },
   "outputs": [],
   "source": [
    "plotdata(address2,0.1,1)"
   ]
  },
  {
   "cell_type": "code",
   "execution_count": null,
   "metadata": {
    "collapsed": true
   },
   "outputs": [],
   "source": []
  },
  {
   "cell_type": "code",
   "execution_count": 73,
   "metadata": {
    "collapsed": true
   },
   "outputs": [],
   "source": [
    "import psycopg2\n",
    "import gmplot"
   ]
  },
  {
   "cell_type": "code",
   "execution_count": 74,
   "metadata": {},
   "outputs": [
    {
     "data": {
      "text/plain": [
       "(29.9299008979592, -90.1327338979592)"
      ]
     },
     "execution_count": 74,
     "metadata": {},
     "output_type": "execute_result"
    }
   ],
   "source": [
    "coord"
   ]
  },
  {
   "cell_type": "code",
   "execution_count": 75,
   "metadata": {
    "collapsed": true
   },
   "outputs": [],
   "source": [
    "Trial1=Walking(TableFilter(address2,0.5))"
   ]
  },
  {
   "cell_type": "code",
   "execution_count": 76,
   "metadata": {},
   "outputs": [
    {
     "data": {
      "text/html": [
       "<div>\n",
       "<style>\n",
       "    .dataframe thead tr:only-child th {\n",
       "        text-align: right;\n",
       "    }\n",
       "\n",
       "    .dataframe thead th {\n",
       "        text-align: left;\n",
       "    }\n",
       "\n",
       "    .dataframe tbody tr th {\n",
       "        vertical-align: top;\n",
       "    }\n",
       "</style>\n",
       "<table border=\"1\" class=\"dataframe\">\n",
       "  <thead>\n",
       "    <tr style=\"text-align: right;\">\n",
       "      <th></th>\n",
       "      <th>Location</th>\n",
       "      <th>Response</th>\n",
       "      <th>TimeCreate</th>\n",
       "      <th>TypeText</th>\n",
       "    </tr>\n",
       "  </thead>\n",
       "  <tbody>\n",
       "    <tr>\n",
       "      <th>80</th>\n",
       "      <td>(29.956300375853115, -90.06310829672566)</td>\n",
       "      <td>[31, 52]</td>\n",
       "      <td>2013-01-01 00:23:19</td>\n",
       "      <td>SIMPLE ROBBERY PROPE</td>\n",
       "    </tr>\n",
       "    <tr>\n",
       "      <th>97</th>\n",
       "      <td>(29.959086603945497, -90.06515403846844)</td>\n",
       "      <td>[0, 28]</td>\n",
       "      <td>2013-01-01 00:30:52</td>\n",
       "      <td>SIMPLE BATTERY</td>\n",
       "    </tr>\n",
       "    <tr>\n",
       "      <th>132</th>\n",
       "      <td>(29.9594709577918, -90.06480175675452)</td>\n",
       "      <td>[0, 2]</td>\n",
       "      <td>2013-01-01 00:49:43</td>\n",
       "      <td>SIMPLE BATTERY</td>\n",
       "    </tr>\n",
       "    <tr>\n",
       "      <th>144</th>\n",
       "      <td>(29.956300375853115, -90.06310829672566)</td>\n",
       "      <td>[60, 1]</td>\n",
       "      <td>2013-01-01 00:56:35</td>\n",
       "      <td>AGGRAVATED BATTERY</td>\n",
       "    </tr>\n",
       "    <tr>\n",
       "      <th>349</th>\n",
       "      <td>(29.953006445057586, -90.06859136709198)</td>\n",
       "      <td>InDef</td>\n",
       "      <td>2013-01-01 02:57:45</td>\n",
       "      <td>ARMED ROBBERY WITH G</td>\n",
       "    </tr>\n",
       "  </tbody>\n",
       "</table>\n",
       "</div>"
      ],
      "text/plain": [
       "                                     Location  Response          TimeCreate  \\\n",
       "80   (29.956300375853115, -90.06310829672566)  [31, 52] 2013-01-01 00:23:19   \n",
       "97   (29.959086603945497, -90.06515403846844)   [0, 28] 2013-01-01 00:30:52   \n",
       "132    (29.9594709577918, -90.06480175675452)    [0, 2] 2013-01-01 00:49:43   \n",
       "144  (29.956300375853115, -90.06310829672566)   [60, 1] 2013-01-01 00:56:35   \n",
       "349  (29.953006445057586, -90.06859136709198)     InDef 2013-01-01 02:57:45   \n",
       "\n",
       "                 TypeText  \n",
       "80   SIMPLE ROBBERY PROPE  \n",
       "97         SIMPLE BATTERY  \n",
       "132        SIMPLE BATTERY  \n",
       "144    AGGRAVATED BATTERY  \n",
       "349  ARMED ROBBERY WITH G  "
      ]
     },
     "execution_count": 76,
     "metadata": {},
     "output_type": "execute_result"
    }
   ],
   "source": [
    "Trial1[0:5]"
   ]
  },
  {
   "cell_type": "code",
   "execution_count": 77,
   "metadata": {
    "collapsed": true
   },
   "outputs": [],
   "source": [
    "def MapFilter(Location, Radius, Time, Type):\n",
    "    Table=TableFilter(Location, Radius)\n",
    "    if Type==1:\n",
    "        temp=Walking(Table)\n",
    "    if Type==2:\n",
    "        temp=Housing(Table)\n",
    "    if Type==3:\n",
    "        temp=Driving(Table)\n",
    "        \n",
    "    timetemp=datetime.strptime(Time,'%m/%d/%Y %H:%M:%S')\n",
    "    myday=timetemp.weekday()\n",
    "    myhour=timetemp.hour\n",
    "\n",
    "    flag=[]\n",
    "        \n",
    "    for i in range(len(temp.TimeCreate.values)):\n",
    "        Response=temp.Response.values[i]\n",
    "        sth=temp.TimeCreate.values[i]\n",
    "        time=datetime.utcfromtimestamp(sth.tolist()/1e9)\n",
    "        W=time.weekday()       #weekday\n",
    "        H=time.hour            #hour\n",
    "        if W==myday and H==myhour:\n",
    "            flag.append(1==1)\n",
    "        else:\n",
    "            flag.append(0==1)\n",
    "    \n",
    "    return temp[flag]"
   ]
  },
  {
   "cell_type": "code",
   "execution_count": 78,
   "metadata": {
    "collapsed": true
   },
   "outputs": [],
   "source": [
    "Trial1=MapFilter(address2, 0.5, '01/25/2018 13:30:00',1)"
   ]
  },
  {
   "cell_type": "code",
   "execution_count": 79,
   "metadata": {},
   "outputs": [
    {
     "data": {
      "text/html": [
       "<div>\n",
       "<style>\n",
       "    .dataframe thead tr:only-child th {\n",
       "        text-align: right;\n",
       "    }\n",
       "\n",
       "    .dataframe thead th {\n",
       "        text-align: left;\n",
       "    }\n",
       "\n",
       "    .dataframe tbody tr th {\n",
       "        vertical-align: top;\n",
       "    }\n",
       "</style>\n",
       "<table border=\"1\" class=\"dataframe\">\n",
       "  <thead>\n",
       "    <tr style=\"text-align: right;\">\n",
       "      <th></th>\n",
       "      <th>Location</th>\n",
       "      <th>Response</th>\n",
       "      <th>TimeCreate</th>\n",
       "      <th>TypeText</th>\n",
       "    </tr>\n",
       "  </thead>\n",
       "  <tbody>\n",
       "    <tr>\n",
       "      <th>169792</th>\n",
       "      <td>(29.959011818869275, -90.06995851106261)</td>\n",
       "      <td>InDef</td>\n",
       "      <td>2013-05-16 13:21:56</td>\n",
       "      <td>SIMPLE BATTERY DOMES</td>\n",
       "    </tr>\n",
       "    <tr>\n",
       "      <th>169820</th>\n",
       "      <td>(29.955108575881717, -90.06727941160821)</td>\n",
       "      <td>[45, 32]</td>\n",
       "      <td>2013-05-16 13:51:39</td>\n",
       "      <td>SIMPLE BATTERY</td>\n",
       "    </tr>\n",
       "    <tr>\n",
       "      <th>378532</th>\n",
       "      <td>(29.956718055664766, -90.06279033122009)</td>\n",
       "      <td>InDef</td>\n",
       "      <td>2013-10-24 13:57:35</td>\n",
       "      <td>SIMPLE BATTERY</td>\n",
       "    </tr>\n",
       "    <tr>\n",
       "      <th>405338</th>\n",
       "      <td>(29.959258227125535, -90.06984485605712)</td>\n",
       "      <td>InDef</td>\n",
       "      <td>2013-11-14 13:24:29</td>\n",
       "      <td>SIMPLE BATTERY</td>\n",
       "    </tr>\n",
       "    <tr>\n",
       "      <th>576668</th>\n",
       "      <td>(29.95708097, -90.06686191)</td>\n",
       "      <td>[371, 1]</td>\n",
       "      <td>2014-04-03 13:08:45</td>\n",
       "      <td>SIMPLE BATTERY</td>\n",
       "    </tr>\n",
       "    <tr>\n",
       "      <th>631514</th>\n",
       "      <td>(29.95992189, -90.05997213)</td>\n",
       "      <td>[8, 13]</td>\n",
       "      <td>2014-05-15 13:58:14</td>\n",
       "      <td>SIMPLE BATTERY</td>\n",
       "    </tr>\n",
       "    <tr>\n",
       "      <th>658604</th>\n",
       "      <td>(29.95641737, -90.06603452)</td>\n",
       "      <td>InDef</td>\n",
       "      <td>2014-06-05 13:43:50</td>\n",
       "      <td>SIMPLE ROBBERY, PROPERTY SNATCHING</td>\n",
       "    </tr>\n",
       "    <tr>\n",
       "      <th>730199</th>\n",
       "      <td>(29.96519204, -90.06268104)</td>\n",
       "      <td>InDef</td>\n",
       "      <td>2014-07-31 13:35:50</td>\n",
       "      <td>SIMPLE BATTERY</td>\n",
       "    </tr>\n",
       "    <tr>\n",
       "      <th>747927</th>\n",
       "      <td>(29.96149927, -90.06598103)</td>\n",
       "      <td>[147, 57]</td>\n",
       "      <td>2014-08-14 13:36:33</td>\n",
       "      <td>SIMPLE BATTERY</td>\n",
       "    </tr>\n",
       "    <tr>\n",
       "      <th>889985</th>\n",
       "      <td>(29.95754612, -90.06205841)</td>\n",
       "      <td>[27, 3]</td>\n",
       "      <td>2014-12-11 13:11:51</td>\n",
       "      <td>SIMPLE ASSAULT</td>\n",
       "    </tr>\n",
       "    <tr>\n",
       "      <th>911815</th>\n",
       "      <td>(29.95705191, -90.06705979)</td>\n",
       "      <td>InDef</td>\n",
       "      <td>2015-01-01 13:11:32</td>\n",
       "      <td>SIMPLE BATTERY</td>\n",
       "    </tr>\n",
       "    <tr>\n",
       "      <th>1053915</th>\n",
       "      <td>(29.95542795, -90.06687158)</td>\n",
       "      <td>InDef</td>\n",
       "      <td>2015-04-30 13:12:19</td>\n",
       "      <td>SIMPLE BATTERY DOMESTIC</td>\n",
       "    </tr>\n",
       "    <tr>\n",
       "      <th>1290251</th>\n",
       "      <td>(29.96450662, -90.06978036)</td>\n",
       "      <td>InDef</td>\n",
       "      <td>2015-11-12 13:53:23</td>\n",
       "      <td>SIMPLE BATTERY</td>\n",
       "    </tr>\n",
       "    <tr>\n",
       "      <th>1503673</th>\n",
       "      <td>(29.95812883, -90.07016461)</td>\n",
       "      <td>[394, 57]</td>\n",
       "      <td>2016-05-19 13:01:03</td>\n",
       "      <td>SIMPLE ROBBERY</td>\n",
       "    </tr>\n",
       "    <tr>\n",
       "      <th>1534887</th>\n",
       "      <td>(29.96106930, -90.06347620)</td>\n",
       "      <td>[25, 53]</td>\n",
       "      <td>2016-06-16 13:14:02</td>\n",
       "      <td>SIMPLE ROBBERY</td>\n",
       "    </tr>\n",
       "    <tr>\n",
       "      <th>1689812</th>\n",
       "      <td>(29.96161312, -90.06593884)</td>\n",
       "      <td>[7, 0]</td>\n",
       "      <td>2016-11-24 13:51:03</td>\n",
       "      <td>AGGRAVATED BATTERY</td>\n",
       "    </tr>\n",
       "    <tr>\n",
       "      <th>1710721</th>\n",
       "      <td>(29.95861544, -90.06452293)</td>\n",
       "      <td>InDef</td>\n",
       "      <td>2016-12-01 13:42:07</td>\n",
       "      <td>SIMPLE BATTERY</td>\n",
       "    </tr>\n",
       "    <tr>\n",
       "      <th>2112221</th>\n",
       "      <td>(29.9540136, -90.06824854)</td>\n",
       "      <td>[3, 54]</td>\n",
       "      <td>2017-09-21 13:19:43</td>\n",
       "      <td>AGGRAVATED ASSAULT</td>\n",
       "    </tr>\n",
       "    <tr>\n",
       "      <th>2130793</th>\n",
       "      <td>(29.95943965, -90.06022158)</td>\n",
       "      <td>InDef</td>\n",
       "      <td>2017-09-28 13:33:22</td>\n",
       "      <td>SIMPLE ASSAULT</td>\n",
       "    </tr>\n",
       "  </tbody>\n",
       "</table>\n",
       "</div>"
      ],
      "text/plain": [
       "                                         Location   Response  \\\n",
       "169792   (29.959011818869275, -90.06995851106261)      InDef   \n",
       "169820   (29.955108575881717, -90.06727941160821)   [45, 32]   \n",
       "378532   (29.956718055664766, -90.06279033122009)      InDef   \n",
       "405338   (29.959258227125535, -90.06984485605712)      InDef   \n",
       "576668                (29.95708097, -90.06686191)   [371, 1]   \n",
       "631514                (29.95992189, -90.05997213)    [8, 13]   \n",
       "658604                (29.95641737, -90.06603452)      InDef   \n",
       "730199                (29.96519204, -90.06268104)      InDef   \n",
       "747927                (29.96149927, -90.06598103)  [147, 57]   \n",
       "889985                (29.95754612, -90.06205841)    [27, 3]   \n",
       "911815                (29.95705191, -90.06705979)      InDef   \n",
       "1053915               (29.95542795, -90.06687158)      InDef   \n",
       "1290251               (29.96450662, -90.06978036)      InDef   \n",
       "1503673               (29.95812883, -90.07016461)  [394, 57]   \n",
       "1534887               (29.96106930, -90.06347620)   [25, 53]   \n",
       "1689812               (29.96161312, -90.06593884)     [7, 0]   \n",
       "1710721               (29.95861544, -90.06452293)      InDef   \n",
       "2112221                (29.9540136, -90.06824854)    [3, 54]   \n",
       "2130793               (29.95943965, -90.06022158)      InDef   \n",
       "\n",
       "                 TimeCreate                            TypeText  \n",
       "169792  2013-05-16 13:21:56                SIMPLE BATTERY DOMES  \n",
       "169820  2013-05-16 13:51:39                      SIMPLE BATTERY  \n",
       "378532  2013-10-24 13:57:35                      SIMPLE BATTERY  \n",
       "405338  2013-11-14 13:24:29                      SIMPLE BATTERY  \n",
       "576668  2014-04-03 13:08:45                      SIMPLE BATTERY  \n",
       "631514  2014-05-15 13:58:14                      SIMPLE BATTERY  \n",
       "658604  2014-06-05 13:43:50  SIMPLE ROBBERY, PROPERTY SNATCHING  \n",
       "730199  2014-07-31 13:35:50                      SIMPLE BATTERY  \n",
       "747927  2014-08-14 13:36:33                      SIMPLE BATTERY  \n",
       "889985  2014-12-11 13:11:51                      SIMPLE ASSAULT  \n",
       "911815  2015-01-01 13:11:32                      SIMPLE BATTERY  \n",
       "1053915 2015-04-30 13:12:19             SIMPLE BATTERY DOMESTIC  \n",
       "1290251 2015-11-12 13:53:23                      SIMPLE BATTERY  \n",
       "1503673 2016-05-19 13:01:03                      SIMPLE ROBBERY  \n",
       "1534887 2016-06-16 13:14:02                      SIMPLE ROBBERY  \n",
       "1689812 2016-11-24 13:51:03                  AGGRAVATED BATTERY  \n",
       "1710721 2016-12-01 13:42:07                      SIMPLE BATTERY  \n",
       "2112221 2017-09-21 13:19:43                  AGGRAVATED ASSAULT  \n",
       "2130793 2017-09-28 13:33:22                      SIMPLE ASSAULT  "
      ]
     },
     "execution_count": 79,
     "metadata": {},
     "output_type": "execute_result"
    }
   ],
   "source": [
    "Trial1"
   ]
  },
  {
   "cell_type": "code",
   "execution_count": 84,
   "metadata": {
    "collapsed": true
   },
   "outputs": [],
   "source": [
    "def mapplotter(t):\n",
    "    latitudes=[]\n",
    "    longitudes=[]\n",
    "    for i in t.Location:\n",
    "        latitudes.append(eval(i)[0])\n",
    "        longitudes.append(eval(i)[1])\n",
    "        \n",
    "    gmap=gmplot.GoogleMapPlotter(latitudes[0],longitudes[1],16)\n",
    "    \n",
    "    gmap.scatter(latitudes, longitudes, '#3B0B39', size=20, marker=False)\n",
    "    gmap.draw('result2.html')\n",
    "    \n",
    "    return None"
   ]
  },
  {
   "cell_type": "code",
   "execution_count": 81,
   "metadata": {
    "collapsed": true
   },
   "outputs": [],
   "source": [
    "mapplotter(Trial1)"
   ]
  },
  {
   "cell_type": "code",
   "execution_count": 82,
   "metadata": {},
   "outputs": [
    {
     "data": {
      "text/html": [
       "<div>\n",
       "<style>\n",
       "    .dataframe thead tr:only-child th {\n",
       "        text-align: right;\n",
       "    }\n",
       "\n",
       "    .dataframe thead th {\n",
       "        text-align: left;\n",
       "    }\n",
       "\n",
       "    .dataframe tbody tr th {\n",
       "        vertical-align: top;\n",
       "    }\n",
       "</style>\n",
       "<table border=\"1\" class=\"dataframe\">\n",
       "  <thead>\n",
       "    <tr style=\"text-align: right;\">\n",
       "      <th></th>\n",
       "      <th>Location</th>\n",
       "      <th>Response</th>\n",
       "      <th>TimeCreate</th>\n",
       "      <th>TypeText</th>\n",
       "    </tr>\n",
       "  </thead>\n",
       "  <tbody>\n",
       "    <tr>\n",
       "      <th>169792</th>\n",
       "      <td>(29.959011818869275, -90.06995851106261)</td>\n",
       "      <td>InDef</td>\n",
       "      <td>2013-05-16 13:21:56</td>\n",
       "      <td>SIMPLE BATTERY DOMES</td>\n",
       "    </tr>\n",
       "    <tr>\n",
       "      <th>169820</th>\n",
       "      <td>(29.955108575881717, -90.06727941160821)</td>\n",
       "      <td>[45, 32]</td>\n",
       "      <td>2013-05-16 13:51:39</td>\n",
       "      <td>SIMPLE BATTERY</td>\n",
       "    </tr>\n",
       "    <tr>\n",
       "      <th>378532</th>\n",
       "      <td>(29.956718055664766, -90.06279033122009)</td>\n",
       "      <td>InDef</td>\n",
       "      <td>2013-10-24 13:57:35</td>\n",
       "      <td>SIMPLE BATTERY</td>\n",
       "    </tr>\n",
       "    <tr>\n",
       "      <th>405338</th>\n",
       "      <td>(29.959258227125535, -90.06984485605712)</td>\n",
       "      <td>InDef</td>\n",
       "      <td>2013-11-14 13:24:29</td>\n",
       "      <td>SIMPLE BATTERY</td>\n",
       "    </tr>\n",
       "    <tr>\n",
       "      <th>576668</th>\n",
       "      <td>(29.95708097, -90.06686191)</td>\n",
       "      <td>[371, 1]</td>\n",
       "      <td>2014-04-03 13:08:45</td>\n",
       "      <td>SIMPLE BATTERY</td>\n",
       "    </tr>\n",
       "    <tr>\n",
       "      <th>631514</th>\n",
       "      <td>(29.95992189, -90.05997213)</td>\n",
       "      <td>[8, 13]</td>\n",
       "      <td>2014-05-15 13:58:14</td>\n",
       "      <td>SIMPLE BATTERY</td>\n",
       "    </tr>\n",
       "    <tr>\n",
       "      <th>658604</th>\n",
       "      <td>(29.95641737, -90.06603452)</td>\n",
       "      <td>InDef</td>\n",
       "      <td>2014-06-05 13:43:50</td>\n",
       "      <td>SIMPLE ROBBERY, PROPERTY SNATCHING</td>\n",
       "    </tr>\n",
       "    <tr>\n",
       "      <th>730199</th>\n",
       "      <td>(29.96519204, -90.06268104)</td>\n",
       "      <td>InDef</td>\n",
       "      <td>2014-07-31 13:35:50</td>\n",
       "      <td>SIMPLE BATTERY</td>\n",
       "    </tr>\n",
       "    <tr>\n",
       "      <th>747927</th>\n",
       "      <td>(29.96149927, -90.06598103)</td>\n",
       "      <td>[147, 57]</td>\n",
       "      <td>2014-08-14 13:36:33</td>\n",
       "      <td>SIMPLE BATTERY</td>\n",
       "    </tr>\n",
       "    <tr>\n",
       "      <th>889985</th>\n",
       "      <td>(29.95754612, -90.06205841)</td>\n",
       "      <td>[27, 3]</td>\n",
       "      <td>2014-12-11 13:11:51</td>\n",
       "      <td>SIMPLE ASSAULT</td>\n",
       "    </tr>\n",
       "    <tr>\n",
       "      <th>911815</th>\n",
       "      <td>(29.95705191, -90.06705979)</td>\n",
       "      <td>InDef</td>\n",
       "      <td>2015-01-01 13:11:32</td>\n",
       "      <td>SIMPLE BATTERY</td>\n",
       "    </tr>\n",
       "    <tr>\n",
       "      <th>1053915</th>\n",
       "      <td>(29.95542795, -90.06687158)</td>\n",
       "      <td>InDef</td>\n",
       "      <td>2015-04-30 13:12:19</td>\n",
       "      <td>SIMPLE BATTERY DOMESTIC</td>\n",
       "    </tr>\n",
       "    <tr>\n",
       "      <th>1290251</th>\n",
       "      <td>(29.96450662, -90.06978036)</td>\n",
       "      <td>InDef</td>\n",
       "      <td>2015-11-12 13:53:23</td>\n",
       "      <td>SIMPLE BATTERY</td>\n",
       "    </tr>\n",
       "    <tr>\n",
       "      <th>1503673</th>\n",
       "      <td>(29.95812883, -90.07016461)</td>\n",
       "      <td>[394, 57]</td>\n",
       "      <td>2016-05-19 13:01:03</td>\n",
       "      <td>SIMPLE ROBBERY</td>\n",
       "    </tr>\n",
       "    <tr>\n",
       "      <th>1534887</th>\n",
       "      <td>(29.96106930, -90.06347620)</td>\n",
       "      <td>[25, 53]</td>\n",
       "      <td>2016-06-16 13:14:02</td>\n",
       "      <td>SIMPLE ROBBERY</td>\n",
       "    </tr>\n",
       "    <tr>\n",
       "      <th>1689812</th>\n",
       "      <td>(29.96161312, -90.06593884)</td>\n",
       "      <td>[7, 0]</td>\n",
       "      <td>2016-11-24 13:51:03</td>\n",
       "      <td>AGGRAVATED BATTERY</td>\n",
       "    </tr>\n",
       "    <tr>\n",
       "      <th>1710721</th>\n",
       "      <td>(29.95861544, -90.06452293)</td>\n",
       "      <td>InDef</td>\n",
       "      <td>2016-12-01 13:42:07</td>\n",
       "      <td>SIMPLE BATTERY</td>\n",
       "    </tr>\n",
       "    <tr>\n",
       "      <th>2112221</th>\n",
       "      <td>(29.9540136, -90.06824854)</td>\n",
       "      <td>[3, 54]</td>\n",
       "      <td>2017-09-21 13:19:43</td>\n",
       "      <td>AGGRAVATED ASSAULT</td>\n",
       "    </tr>\n",
       "    <tr>\n",
       "      <th>2130793</th>\n",
       "      <td>(29.95943965, -90.06022158)</td>\n",
       "      <td>InDef</td>\n",
       "      <td>2017-09-28 13:33:22</td>\n",
       "      <td>SIMPLE ASSAULT</td>\n",
       "    </tr>\n",
       "  </tbody>\n",
       "</table>\n",
       "</div>"
      ],
      "text/plain": [
       "                                         Location   Response  \\\n",
       "169792   (29.959011818869275, -90.06995851106261)      InDef   \n",
       "169820   (29.955108575881717, -90.06727941160821)   [45, 32]   \n",
       "378532   (29.956718055664766, -90.06279033122009)      InDef   \n",
       "405338   (29.959258227125535, -90.06984485605712)      InDef   \n",
       "576668                (29.95708097, -90.06686191)   [371, 1]   \n",
       "631514                (29.95992189, -90.05997213)    [8, 13]   \n",
       "658604                (29.95641737, -90.06603452)      InDef   \n",
       "730199                (29.96519204, -90.06268104)      InDef   \n",
       "747927                (29.96149927, -90.06598103)  [147, 57]   \n",
       "889985                (29.95754612, -90.06205841)    [27, 3]   \n",
       "911815                (29.95705191, -90.06705979)      InDef   \n",
       "1053915               (29.95542795, -90.06687158)      InDef   \n",
       "1290251               (29.96450662, -90.06978036)      InDef   \n",
       "1503673               (29.95812883, -90.07016461)  [394, 57]   \n",
       "1534887               (29.96106930, -90.06347620)   [25, 53]   \n",
       "1689812               (29.96161312, -90.06593884)     [7, 0]   \n",
       "1710721               (29.95861544, -90.06452293)      InDef   \n",
       "2112221                (29.9540136, -90.06824854)    [3, 54]   \n",
       "2130793               (29.95943965, -90.06022158)      InDef   \n",
       "\n",
       "                 TimeCreate                            TypeText  \n",
       "169792  2013-05-16 13:21:56                SIMPLE BATTERY DOMES  \n",
       "169820  2013-05-16 13:51:39                      SIMPLE BATTERY  \n",
       "378532  2013-10-24 13:57:35                      SIMPLE BATTERY  \n",
       "405338  2013-11-14 13:24:29                      SIMPLE BATTERY  \n",
       "576668  2014-04-03 13:08:45                      SIMPLE BATTERY  \n",
       "631514  2014-05-15 13:58:14                      SIMPLE BATTERY  \n",
       "658604  2014-06-05 13:43:50  SIMPLE ROBBERY, PROPERTY SNATCHING  \n",
       "730199  2014-07-31 13:35:50                      SIMPLE BATTERY  \n",
       "747927  2014-08-14 13:36:33                      SIMPLE BATTERY  \n",
       "889985  2014-12-11 13:11:51                      SIMPLE ASSAULT  \n",
       "911815  2015-01-01 13:11:32                      SIMPLE BATTERY  \n",
       "1053915 2015-04-30 13:12:19             SIMPLE BATTERY DOMESTIC  \n",
       "1290251 2015-11-12 13:53:23                      SIMPLE BATTERY  \n",
       "1503673 2016-05-19 13:01:03                      SIMPLE ROBBERY  \n",
       "1534887 2016-06-16 13:14:02                      SIMPLE ROBBERY  \n",
       "1689812 2016-11-24 13:51:03                  AGGRAVATED BATTERY  \n",
       "1710721 2016-12-01 13:42:07                      SIMPLE BATTERY  \n",
       "2112221 2017-09-21 13:19:43                  AGGRAVATED ASSAULT  \n",
       "2130793 2017-09-28 13:33:22                      SIMPLE ASSAULT  "
      ]
     },
     "execution_count": 82,
     "metadata": {},
     "output_type": "execute_result"
    }
   ],
   "source": [
    "Trial1"
   ]
  },
  {
   "cell_type": "code",
   "execution_count": 83,
   "metadata": {
    "collapsed": true
   },
   "outputs": [],
   "source": [
    "Trial2=MapFilter(address2, 0.5, '01/25/2018 22:30:00',1)"
   ]
  },
  {
   "cell_type": "code",
   "execution_count": 86,
   "metadata": {
    "collapsed": true
   },
   "outputs": [],
   "source": [
    "mapplotter(Trial2)"
   ]
  },
  {
   "cell_type": "code",
   "execution_count": null,
   "metadata": {
    "collapsed": true
   },
   "outputs": [],
   "source": []
  }
 ],
 "metadata": {
  "kernelspec": {
   "display_name": "Python 2",
   "language": "python",
   "name": "python2"
  },
  "language_info": {
   "codemirror_mode": {
    "name": "ipython",
    "version": 2
   },
   "file_extension": ".py",
   "mimetype": "text/x-python",
   "name": "python",
   "nbconvert_exporter": "python",
   "pygments_lexer": "ipython2",
   "version": "2.7.13"
  }
 },
 "nbformat": 4,
 "nbformat_minor": 2
}
